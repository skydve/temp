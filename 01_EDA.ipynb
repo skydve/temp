{
 "cells": [
  {
   "cell_type": "code",
   "execution_count": 2,
   "metadata": {},
   "outputs": [],
   "source": [
    "from pathlib import Path"
   ]
  },
  {
   "cell_type": "code",
   "execution_count": 7,
   "metadata": {},
   "outputs": [],
   "source": [
    "from lightgbm import LGBMRegressor"
   ]
  },
  {
   "cell_type": "code",
   "execution_count": 10,
   "metadata": {},
   "outputs": [],
   "source": [
    "from sklearn.model_selection import train_test_split\n",
    "import seaborn as sns"
   ]
  },
  {
   "cell_type": "code",
   "execution_count": 4,
   "metadata": {},
   "outputs": [],
   "source": [
    "import pandas as pd\n",
    "import numpy as np\n",
    "from lgbm import LG"
   ]
  },
  {
   "cell_type": "code",
   "execution_count": 11,
   "metadata": {},
   "outputs": [],
   "source": [
    "sns.set(rc={\"figure.figsize\": (20, 5)})"
   ]
  },
  {
   "cell_type": "markdown",
   "metadata": {},
   "source": [
    "## Loads"
   ]
  },
  {
   "cell_type": "code",
   "execution_count": 12,
   "metadata": {},
   "outputs": [
    {
     "name": "stdout",
     "output_type": "stream",
     "text": [
      "activity_target.csv  pressure_he_target.csv\t  sensors.csv\n",
      "coke_target.csv      reactor_pressure_target.csv  temp_on_he_target.csv\n"
     ]
    }
   ],
   "source": [
    "path = Path('../data/external/')\n",
    "!ls {path}"
   ]
  },
  {
   "cell_type": "code",
   "execution_count": 13,
   "metadata": {},
   "outputs": [],
   "source": [
    "dataframe_url = 'sensors.csv'"
   ]
  },
  {
   "cell_type": "code",
   "execution_count": 14,
   "metadata": {},
   "outputs": [],
   "source": [
    "target_urls = ['activity_target.csv', 'pressure_he_target.csv', 'coke_target.csv', \n",
    " 'reactor_pressure_target.csv', 'temp_on_he_target.csv']"
   ]
  },
  {
   "cell_type": "code",
   "execution_count": 15,
   "metadata": {},
   "outputs": [],
   "source": [
    "target_dataframes = []\n",
    "for url in target_urls:\n",
    "    target_dataframes.append(pd.read_csv(path/url,\n",
    "                parse_dates=['timestamp'], \n",
    "                index_col=['timestamp']))"
   ]
  },
  {
   "cell_type": "code",
   "execution_count": 16,
   "metadata": {},
   "outputs": [],
   "source": [
    "targets = pd.concat(target_dataframes, axis=1)\n",
    "targets.columns = ['y5', 'y4', 'y1', 'y2', 'y3']"
   ]
  },
  {
   "cell_type": "code",
   "execution_count": 17,
   "metadata": {},
   "outputs": [
    {
     "data": {
      "text/html": [
       "<div>\n",
       "<style scoped>\n",
       "    .dataframe tbody tr th:only-of-type {\n",
       "        vertical-align: middle;\n",
       "    }\n",
       "\n",
       "    .dataframe tbody tr th {\n",
       "        vertical-align: top;\n",
       "    }\n",
       "\n",
       "    .dataframe thead th {\n",
       "        text-align: right;\n",
       "    }\n",
       "</style>\n",
       "<table border=\"1\" class=\"dataframe\">\n",
       "  <thead>\n",
       "    <tr style=\"text-align: right;\">\n",
       "      <th></th>\n",
       "      <th>y5</th>\n",
       "      <th>y4</th>\n",
       "      <th>y1</th>\n",
       "      <th>y2</th>\n",
       "      <th>y3</th>\n",
       "    </tr>\n",
       "    <tr>\n",
       "      <th>timestamp</th>\n",
       "      <th></th>\n",
       "      <th></th>\n",
       "      <th></th>\n",
       "      <th></th>\n",
       "      <th></th>\n",
       "    </tr>\n",
       "  </thead>\n",
       "  <tbody>\n",
       "    <tr>\n",
       "      <th>2016-10-24 16:00:00</th>\n",
       "      <td>-54.963407</td>\n",
       "      <td>32.995096</td>\n",
       "      <td>2.714220</td>\n",
       "      <td>64.224924</td>\n",
       "      <td>560.094747</td>\n",
       "    </tr>\n",
       "    <tr>\n",
       "      <th>2016-10-24 17:00:00</th>\n",
       "      <td>-54.275879</td>\n",
       "      <td>33.162564</td>\n",
       "      <td>2.709524</td>\n",
       "      <td>64.371366</td>\n",
       "      <td>560.478644</td>\n",
       "    </tr>\n",
       "    <tr>\n",
       "      <th>2016-10-24 18:00:00</th>\n",
       "      <td>-54.870874</td>\n",
       "      <td>33.283977</td>\n",
       "      <td>2.709705</td>\n",
       "      <td>64.294914</td>\n",
       "      <td>560.098119</td>\n",
       "    </tr>\n",
       "    <tr>\n",
       "      <th>2016-10-24 19:00:00</th>\n",
       "      <td>-54.879948</td>\n",
       "      <td>33.144032</td>\n",
       "      <td>2.715567</td>\n",
       "      <td>64.307611</td>\n",
       "      <td>560.073475</td>\n",
       "    </tr>\n",
       "    <tr>\n",
       "      <th>2016-10-24 20:00:00</th>\n",
       "      <td>-55.025885</td>\n",
       "      <td>33.053872</td>\n",
       "      <td>2.706246</td>\n",
       "      <td>64.231108</td>\n",
       "      <td>560.312775</td>\n",
       "    </tr>\n",
       "  </tbody>\n",
       "</table>\n",
       "</div>"
      ],
      "text/plain": [
       "                            y5         y4        y1         y2          y3\n",
       "timestamp                                                                 \n",
       "2016-10-24 16:00:00 -54.963407  32.995096  2.714220  64.224924  560.094747\n",
       "2016-10-24 17:00:00 -54.275879  33.162564  2.709524  64.371366  560.478644\n",
       "2016-10-24 18:00:00 -54.870874  33.283977  2.709705  64.294914  560.098119\n",
       "2016-10-24 19:00:00 -54.879948  33.144032  2.715567  64.307611  560.073475\n",
       "2016-10-24 20:00:00 -55.025885  33.053872  2.706246  64.231108  560.312775"
      ]
     },
     "execution_count": 17,
     "metadata": {},
     "output_type": "execute_result"
    }
   ],
   "source": [
    "targets.head()"
   ]
  },
  {
   "cell_type": "code",
   "execution_count": 18,
   "metadata": {},
   "outputs": [],
   "source": [
    "sensors = pd.read_csv(path/dataframe_url, parse_dates=['timestamp'])"
   ]
  },
  {
   "cell_type": "code",
   "execution_count": 19,
   "metadata": {},
   "outputs": [
    {
     "data": {
      "text/html": [
       "<div>\n",
       "<style scoped>\n",
       "    .dataframe tbody tr th:only-of-type {\n",
       "        vertical-align: middle;\n",
       "    }\n",
       "\n",
       "    .dataframe tbody tr th {\n",
       "        vertical-align: top;\n",
       "    }\n",
       "\n",
       "    .dataframe thead th {\n",
       "        text-align: right;\n",
       "    }\n",
       "</style>\n",
       "<table border=\"1\" class=\"dataframe\">\n",
       "  <thead>\n",
       "    <tr style=\"text-align: right;\">\n",
       "      <th></th>\n",
       "      <th>0</th>\n",
       "      <th>1</th>\n",
       "      <th>2</th>\n",
       "      <th>3</th>\n",
       "      <th>4</th>\n",
       "      <th>5</th>\n",
       "      <th>6</th>\n",
       "      <th>7</th>\n",
       "      <th>8</th>\n",
       "      <th>9</th>\n",
       "      <th>...</th>\n",
       "      <th>13262</th>\n",
       "      <th>13263</th>\n",
       "      <th>13264</th>\n",
       "      <th>13265</th>\n",
       "      <th>13266</th>\n",
       "      <th>13267</th>\n",
       "      <th>13268</th>\n",
       "      <th>13269</th>\n",
       "      <th>13270</th>\n",
       "      <th>13271</th>\n",
       "    </tr>\n",
       "  </thead>\n",
       "  <tbody>\n",
       "    <tr>\n",
       "      <th>timestamp</th>\n",
       "      <td>2016-10-24 16:00:00</td>\n",
       "      <td>2016-10-24 17:00:00</td>\n",
       "      <td>2016-10-24 18:00:00</td>\n",
       "      <td>2016-10-24 19:00:00</td>\n",
       "      <td>2016-10-24 20:00:00</td>\n",
       "      <td>2016-10-24 21:00:00</td>\n",
       "      <td>2016-10-24 22:00:00</td>\n",
       "      <td>2016-10-24 23:00:00</td>\n",
       "      <td>2016-10-25 00:00:00</td>\n",
       "      <td>2016-10-25 01:00:00</td>\n",
       "      <td>...</td>\n",
       "      <td>2018-04-30 06:00:00</td>\n",
       "      <td>2018-04-30 07:00:00</td>\n",
       "      <td>2018-04-30 08:00:00</td>\n",
       "      <td>2018-04-30 09:00:00</td>\n",
       "      <td>2018-04-30 10:00:00</td>\n",
       "      <td>2018-04-30 11:00:00</td>\n",
       "      <td>2018-04-30 12:00:00</td>\n",
       "      <td>2018-04-30 13:00:00</td>\n",
       "      <td>2018-04-30 14:00:00</td>\n",
       "      <td>2018-04-30 15:00:00</td>\n",
       "    </tr>\n",
       "    <tr>\n",
       "      <th>f_0</th>\n",
       "      <td>NaN</td>\n",
       "      <td>NaN</td>\n",
       "      <td>NaN</td>\n",
       "      <td>NaN</td>\n",
       "      <td>98.9127</td>\n",
       "      <td>NaN</td>\n",
       "      <td>NaN</td>\n",
       "      <td>NaN</td>\n",
       "      <td>NaN</td>\n",
       "      <td>NaN</td>\n",
       "      <td>...</td>\n",
       "      <td>NaN</td>\n",
       "      <td>NaN</td>\n",
       "      <td>99.0537</td>\n",
       "      <td>NaN</td>\n",
       "      <td>NaN</td>\n",
       "      <td>NaN</td>\n",
       "      <td>NaN</td>\n",
       "      <td>NaN</td>\n",
       "      <td>NaN</td>\n",
       "      <td>NaN</td>\n",
       "    </tr>\n",
       "    <tr>\n",
       "      <th>f_1</th>\n",
       "      <td>NaN</td>\n",
       "      <td>NaN</td>\n",
       "      <td>NaN</td>\n",
       "      <td>NaN</td>\n",
       "      <td>0.336871</td>\n",
       "      <td>NaN</td>\n",
       "      <td>NaN</td>\n",
       "      <td>NaN</td>\n",
       "      <td>NaN</td>\n",
       "      <td>NaN</td>\n",
       "      <td>...</td>\n",
       "      <td>NaN</td>\n",
       "      <td>NaN</td>\n",
       "      <td>0.349084</td>\n",
       "      <td>NaN</td>\n",
       "      <td>NaN</td>\n",
       "      <td>NaN</td>\n",
       "      <td>NaN</td>\n",
       "      <td>NaN</td>\n",
       "      <td>NaN</td>\n",
       "      <td>NaN</td>\n",
       "    </tr>\n",
       "    <tr>\n",
       "      <th>f_2</th>\n",
       "      <td>NaN</td>\n",
       "      <td>NaN</td>\n",
       "      <td>NaN</td>\n",
       "      <td>NaN</td>\n",
       "      <td>27.8974</td>\n",
       "      <td>NaN</td>\n",
       "      <td>NaN</td>\n",
       "      <td>NaN</td>\n",
       "      <td>NaN</td>\n",
       "      <td>NaN</td>\n",
       "      <td>...</td>\n",
       "      <td>NaN</td>\n",
       "      <td>NaN</td>\n",
       "      <td>26.9072</td>\n",
       "      <td>NaN</td>\n",
       "      <td>NaN</td>\n",
       "      <td>NaN</td>\n",
       "      <td>NaN</td>\n",
       "      <td>NaN</td>\n",
       "      <td>NaN</td>\n",
       "      <td>NaN</td>\n",
       "    </tr>\n",
       "    <tr>\n",
       "      <th>f_3</th>\n",
       "      <td>-0.00538321</td>\n",
       "      <td>0.103383</td>\n",
       "      <td>-0.0048521</td>\n",
       "      <td>0.131502</td>\n",
       "      <td>0.0181929</td>\n",
       "      <td>0.00860145</td>\n",
       "      <td>0.0186855</td>\n",
       "      <td>-0.010295</td>\n",
       "      <td>0.0172582</td>\n",
       "      <td>0.00807089</td>\n",
       "      <td>...</td>\n",
       "      <td>0.033991</td>\n",
       "      <td>0.00491675</td>\n",
       "      <td>0.00576931</td>\n",
       "      <td>-0.0182285</td>\n",
       "      <td>-0.0108977</td>\n",
       "      <td>0.0069725</td>\n",
       "      <td>0.010679</td>\n",
       "      <td>-0.00661649</td>\n",
       "      <td>0.000707764</td>\n",
       "      <td>0.0169344</td>\n",
       "    </tr>\n",
       "    <tr>\n",
       "      <th>f_4</th>\n",
       "      <td>6.25191</td>\n",
       "      <td>6.46508</td>\n",
       "      <td>6.31527</td>\n",
       "      <td>6.43795</td>\n",
       "      <td>6.21786</td>\n",
       "      <td>6.34401</td>\n",
       "      <td>6.22559</td>\n",
       "      <td>5.87599</td>\n",
       "      <td>5.74683</td>\n",
       "      <td>5.83773</td>\n",
       "      <td>...</td>\n",
       "      <td>0.0298159</td>\n",
       "      <td>0.143796</td>\n",
       "      <td>0.122485</td>\n",
       "      <td>0.121472</td>\n",
       "      <td>0.127025</td>\n",
       "      <td>0.00220551</td>\n",
       "      <td>0.0492557</td>\n",
       "      <td>0.0743141</td>\n",
       "      <td>0.105542</td>\n",
       "      <td>0.0239832</td>\n",
       "    </tr>\n",
       "    <tr>\n",
       "      <th>f_5</th>\n",
       "      <td>0.0223037</td>\n",
       "      <td>0.0116926</td>\n",
       "      <td>-0.00307206</td>\n",
       "      <td>-0.0122403</td>\n",
       "      <td>0.0155345</td>\n",
       "      <td>-0.0213528</td>\n",
       "      <td>-0.00124564</td>\n",
       "      <td>0.00662123</td>\n",
       "      <td>-0.0168667</td>\n",
       "      <td>-0.00152409</td>\n",
       "      <td>...</td>\n",
       "      <td>0.00954087</td>\n",
       "      <td>-0.0377618</td>\n",
       "      <td>0.00576362</td>\n",
       "      <td>-0.0151338</td>\n",
       "      <td>-0.00551036</td>\n",
       "      <td>-0.0209024</td>\n",
       "      <td>0.0565243</td>\n",
       "      <td>0.00816418</td>\n",
       "      <td>-0.00226166</td>\n",
       "      <td>0.00145374</td>\n",
       "    </tr>\n",
       "    <tr>\n",
       "      <th>f_6</th>\n",
       "      <td>1.4667</td>\n",
       "      <td>1.26701</td>\n",
       "      <td>1.21685</td>\n",
       "      <td>1.16237</td>\n",
       "      <td>1.28753</td>\n",
       "      <td>1.20728</td>\n",
       "      <td>1.29017</td>\n",
       "      <td>1.41675</td>\n",
       "      <td>1.26293</td>\n",
       "      <td>1.38025</td>\n",
       "      <td>...</td>\n",
       "      <td>0.139093</td>\n",
       "      <td>0.238765</td>\n",
       "      <td>0.136352</td>\n",
       "      <td>0.101557</td>\n",
       "      <td>0.124532</td>\n",
       "      <td>0.0739482</td>\n",
       "      <td>-0.09259</td>\n",
       "      <td>0.0556571</td>\n",
       "      <td>0.161125</td>\n",
       "      <td>-0.0169616</td>\n",
       "    </tr>\n",
       "    <tr>\n",
       "      <th>f_7</th>\n",
       "      <td>11.1739</td>\n",
       "      <td>12.9876</td>\n",
       "      <td>12.8248</td>\n",
       "      <td>6.67832</td>\n",
       "      <td>5.74119</td>\n",
       "      <td>6.4352</td>\n",
       "      <td>10.8708</td>\n",
       "      <td>14.94</td>\n",
       "      <td>10.8624</td>\n",
       "      <td>9.84177</td>\n",
       "      <td>...</td>\n",
       "      <td>3.60166</td>\n",
       "      <td>0.900297</td>\n",
       "      <td>-3.30977</td>\n",
       "      <td>-1.09239</td>\n",
       "      <td>4.28618</td>\n",
       "      <td>-1.04522</td>\n",
       "      <td>0.61265</td>\n",
       "      <td>3.03149</td>\n",
       "      <td>3.74026</td>\n",
       "      <td>-3.26811</td>\n",
       "    </tr>\n",
       "    <tr>\n",
       "      <th>f_8</th>\n",
       "      <td>236232</td>\n",
       "      <td>236736</td>\n",
       "      <td>235780</td>\n",
       "      <td>236091</td>\n",
       "      <td>234845</td>\n",
       "      <td>235558</td>\n",
       "      <td>235863</td>\n",
       "      <td>235594</td>\n",
       "      <td>235060</td>\n",
       "      <td>236566</td>\n",
       "      <td>...</td>\n",
       "      <td>194684</td>\n",
       "      <td>193250</td>\n",
       "      <td>194489</td>\n",
       "      <td>193567</td>\n",
       "      <td>195674</td>\n",
       "      <td>195904</td>\n",
       "      <td>195010</td>\n",
       "      <td>195797</td>\n",
       "      <td>195143</td>\n",
       "      <td>190021</td>\n",
       "    </tr>\n",
       "    <tr>\n",
       "      <th>f_9</th>\n",
       "      <td>239142</td>\n",
       "      <td>237599</td>\n",
       "      <td>238314</td>\n",
       "      <td>238923</td>\n",
       "      <td>237358</td>\n",
       "      <td>237019</td>\n",
       "      <td>238058</td>\n",
       "      <td>238126</td>\n",
       "      <td>238175</td>\n",
       "      <td>237888</td>\n",
       "      <td>...</td>\n",
       "      <td>196567</td>\n",
       "      <td>196516</td>\n",
       "      <td>195518</td>\n",
       "      <td>195028</td>\n",
       "      <td>196789</td>\n",
       "      <td>197389</td>\n",
       "      <td>196560</td>\n",
       "      <td>197068</td>\n",
       "      <td>196522</td>\n",
       "      <td>191101</td>\n",
       "    </tr>\n",
       "    <tr>\n",
       "      <th>f_10</th>\n",
       "      <td>236048</td>\n",
       "      <td>234667</td>\n",
       "      <td>236596</td>\n",
       "      <td>236213</td>\n",
       "      <td>235496</td>\n",
       "      <td>234171</td>\n",
       "      <td>234647</td>\n",
       "      <td>236143</td>\n",
       "      <td>236318</td>\n",
       "      <td>233834</td>\n",
       "      <td>...</td>\n",
       "      <td>194939</td>\n",
       "      <td>194515</td>\n",
       "      <td>192260</td>\n",
       "      <td>193495</td>\n",
       "      <td>196980</td>\n",
       "      <td>195719</td>\n",
       "      <td>195230</td>\n",
       "      <td>195255</td>\n",
       "      <td>195649</td>\n",
       "      <td>189849</td>\n",
       "    </tr>\n",
       "    <tr>\n",
       "      <th>f_11</th>\n",
       "      <td>10388.1</td>\n",
       "      <td>10342.3</td>\n",
       "      <td>10311.4</td>\n",
       "      <td>10232</td>\n",
       "      <td>10323</td>\n",
       "      <td>10285.3</td>\n",
       "      <td>10360.5</td>\n",
       "      <td>10311.4</td>\n",
       "      <td>10385.1</td>\n",
       "      <td>10312</td>\n",
       "      <td>...</td>\n",
       "      <td>9388.76</td>\n",
       "      <td>9358.06</td>\n",
       "      <td>9427.97</td>\n",
       "      <td>9282.33</td>\n",
       "      <td>9371.25</td>\n",
       "      <td>9549.67</td>\n",
       "      <td>9289.13</td>\n",
       "      <td>9427.52</td>\n",
       "      <td>9432.48</td>\n",
       "      <td>9561.23</td>\n",
       "    </tr>\n",
       "    <tr>\n",
       "      <th>f_12</th>\n",
       "      <td>10301.1</td>\n",
       "      <td>10243.5</td>\n",
       "      <td>10295.6</td>\n",
       "      <td>10208.1</td>\n",
       "      <td>10202.4</td>\n",
       "      <td>10257.9</td>\n",
       "      <td>10284.8</td>\n",
       "      <td>10251.1</td>\n",
       "      <td>10325.2</td>\n",
       "      <td>10215.4</td>\n",
       "      <td>...</td>\n",
       "      <td>9431.77</td>\n",
       "      <td>9419.29</td>\n",
       "      <td>9362.76</td>\n",
       "      <td>9286.41</td>\n",
       "      <td>9381.83</td>\n",
       "      <td>9553.4</td>\n",
       "      <td>9407.89</td>\n",
       "      <td>9511.48</td>\n",
       "      <td>9478.66</td>\n",
       "      <td>9558.05</td>\n",
       "    </tr>\n",
       "    <tr>\n",
       "      <th>f_13</th>\n",
       "      <td>10514.1</td>\n",
       "      <td>10522.4</td>\n",
       "      <td>10545</td>\n",
       "      <td>10417.1</td>\n",
       "      <td>10470.8</td>\n",
       "      <td>10533.7</td>\n",
       "      <td>10555.5</td>\n",
       "      <td>10494.9</td>\n",
       "      <td>10519.4</td>\n",
       "      <td>10489.4</td>\n",
       "      <td>...</td>\n",
       "      <td>9585.38</td>\n",
       "      <td>9536.2</td>\n",
       "      <td>9540.51</td>\n",
       "      <td>9478.55</td>\n",
       "      <td>9600.03</td>\n",
       "      <td>9647.3</td>\n",
       "      <td>9498.32</td>\n",
       "      <td>9623.71</td>\n",
       "      <td>9572.4</td>\n",
       "      <td>9724.88</td>\n",
       "    </tr>\n",
       "    <tr>\n",
       "      <th>f_14</th>\n",
       "      <td>45.3308</td>\n",
       "      <td>45.3465</td>\n",
       "      <td>42.4962</td>\n",
       "      <td>45.5465</td>\n",
       "      <td>49.7685</td>\n",
       "      <td>41.3815</td>\n",
       "      <td>38.0938</td>\n",
       "      <td>44.869</td>\n",
       "      <td>44.0701</td>\n",
       "      <td>41.2098</td>\n",
       "      <td>...</td>\n",
       "      <td>40.6236</td>\n",
       "      <td>39.2169</td>\n",
       "      <td>40.4948</td>\n",
       "      <td>41.4889</td>\n",
       "      <td>39.4117</td>\n",
       "      <td>45.9092</td>\n",
       "      <td>39.823</td>\n",
       "      <td>37.4002</td>\n",
       "      <td>42.2406</td>\n",
       "      <td>44.6183</td>\n",
       "    </tr>\n",
       "    <tr>\n",
       "      <th>f_15</th>\n",
       "      <td>114.308</td>\n",
       "      <td>113.573</td>\n",
       "      <td>113.961</td>\n",
       "      <td>114.132</td>\n",
       "      <td>113.853</td>\n",
       "      <td>113.9</td>\n",
       "      <td>114.631</td>\n",
       "      <td>114.114</td>\n",
       "      <td>113.746</td>\n",
       "      <td>114.002</td>\n",
       "      <td>...</td>\n",
       "      <td>115.552</td>\n",
       "      <td>115.301</td>\n",
       "      <td>116.174</td>\n",
       "      <td>117.244</td>\n",
       "      <td>117.708</td>\n",
       "      <td>116.131</td>\n",
       "      <td>115.3</td>\n",
       "      <td>115.89</td>\n",
       "      <td>115.747</td>\n",
       "      <td>116.235</td>\n",
       "    </tr>\n",
       "    <tr>\n",
       "      <th>f_16</th>\n",
       "      <td>130.949</td>\n",
       "      <td>131.135</td>\n",
       "      <td>130.36</td>\n",
       "      <td>131.414</td>\n",
       "      <td>130.553</td>\n",
       "      <td>131.562</td>\n",
       "      <td>131.412</td>\n",
       "      <td>131.462</td>\n",
       "      <td>131.366</td>\n",
       "      <td>131.275</td>\n",
       "      <td>...</td>\n",
       "      <td>131.507</td>\n",
       "      <td>130.436</td>\n",
       "      <td>131.091</td>\n",
       "      <td>131.58</td>\n",
       "      <td>131.251</td>\n",
       "      <td>131.539</td>\n",
       "      <td>131.368</td>\n",
       "      <td>131.025</td>\n",
       "      <td>130.542</td>\n",
       "      <td>131.596</td>\n",
       "    </tr>\n",
       "    <tr>\n",
       "      <th>f_17</th>\n",
       "      <td>41.0573</td>\n",
       "      <td>40.8793</td>\n",
       "      <td>40.8343</td>\n",
       "      <td>40.523</td>\n",
       "      <td>40.8464</td>\n",
       "      <td>41.3943</td>\n",
       "      <td>41.1709</td>\n",
       "      <td>41.2452</td>\n",
       "      <td>40.8552</td>\n",
       "      <td>41.0132</td>\n",
       "      <td>...</td>\n",
       "      <td>41.3068</td>\n",
       "      <td>41.2416</td>\n",
       "      <td>41.428</td>\n",
       "      <td>41.16</td>\n",
       "      <td>41.2444</td>\n",
       "      <td>41.5143</td>\n",
       "      <td>41.2878</td>\n",
       "      <td>41.2719</td>\n",
       "      <td>41.3103</td>\n",
       "      <td>41.0414</td>\n",
       "    </tr>\n",
       "    <tr>\n",
       "      <th>f_18</th>\n",
       "      <td>105.974</td>\n",
       "      <td>106.377</td>\n",
       "      <td>105.844</td>\n",
       "      <td>106.029</td>\n",
       "      <td>105.259</td>\n",
       "      <td>106.163</td>\n",
       "      <td>105.861</td>\n",
       "      <td>105.646</td>\n",
       "      <td>106.164</td>\n",
       "      <td>106.323</td>\n",
       "      <td>...</td>\n",
       "      <td>109.425</td>\n",
       "      <td>108.997</td>\n",
       "      <td>109.201</td>\n",
       "      <td>108.931</td>\n",
       "      <td>109.494</td>\n",
       "      <td>108.795</td>\n",
       "      <td>108.885</td>\n",
       "      <td>109.012</td>\n",
       "      <td>108.801</td>\n",
       "      <td>108.6</td>\n",
       "    </tr>\n",
       "    <tr>\n",
       "      <th>f_19</th>\n",
       "      <td>129.768</td>\n",
       "      <td>131.056</td>\n",
       "      <td>130.375</td>\n",
       "      <td>130.273</td>\n",
       "      <td>130.955</td>\n",
       "      <td>131.287</td>\n",
       "      <td>130.467</td>\n",
       "      <td>129.814</td>\n",
       "      <td>129.929</td>\n",
       "      <td>130.809</td>\n",
       "      <td>...</td>\n",
       "      <td>131.701</td>\n",
       "      <td>132.482</td>\n",
       "      <td>131.714</td>\n",
       "      <td>131.886</td>\n",
       "      <td>131.484</td>\n",
       "      <td>130.062</td>\n",
       "      <td>131.096</td>\n",
       "      <td>131.25</td>\n",
       "      <td>130.314</td>\n",
       "      <td>130.581</td>\n",
       "    </tr>\n",
       "    <tr>\n",
       "      <th>f_20</th>\n",
       "      <td>643.938</td>\n",
       "      <td>645.647</td>\n",
       "      <td>644.225</td>\n",
       "      <td>643.569</td>\n",
       "      <td>644.418</td>\n",
       "      <td>643.553</td>\n",
       "      <td>644.289</td>\n",
       "      <td>644.397</td>\n",
       "      <td>642.731</td>\n",
       "      <td>642.613</td>\n",
       "      <td>...</td>\n",
       "      <td>645.225</td>\n",
       "      <td>645.68</td>\n",
       "      <td>644.776</td>\n",
       "      <td>643.346</td>\n",
       "      <td>644.96</td>\n",
       "      <td>646.002</td>\n",
       "      <td>645.158</td>\n",
       "      <td>644.554</td>\n",
       "      <td>644.126</td>\n",
       "      <td>624.047</td>\n",
       "    </tr>\n",
       "    <tr>\n",
       "      <th>f_21</th>\n",
       "      <td>641.806</td>\n",
       "      <td>644.468</td>\n",
       "      <td>643.545</td>\n",
       "      <td>644.813</td>\n",
       "      <td>644.911</td>\n",
       "      <td>646.731</td>\n",
       "      <td>643.64</td>\n",
       "      <td>641.192</td>\n",
       "      <td>645.983</td>\n",
       "      <td>644.791</td>\n",
       "      <td>...</td>\n",
       "      <td>649.919</td>\n",
       "      <td>646.964</td>\n",
       "      <td>648.192</td>\n",
       "      <td>651</td>\n",
       "      <td>646.605</td>\n",
       "      <td>644.922</td>\n",
       "      <td>644.606</td>\n",
       "      <td>649.737</td>\n",
       "      <td>645.511</td>\n",
       "      <td>631.649</td>\n",
       "    </tr>\n",
       "    <tr>\n",
       "      <th>f_22</th>\n",
       "      <td>37.8648</td>\n",
       "      <td>37.9987</td>\n",
       "      <td>37.9349</td>\n",
       "      <td>38.0284</td>\n",
       "      <td>38.2349</td>\n",
       "      <td>37.817</td>\n",
       "      <td>38.158</td>\n",
       "      <td>38.0068</td>\n",
       "      <td>38.153</td>\n",
       "      <td>38.0085</td>\n",
       "      <td>...</td>\n",
       "      <td>37.8115</td>\n",
       "      <td>37.7782</td>\n",
       "      <td>38.1674</td>\n",
       "      <td>38.2985</td>\n",
       "      <td>38.0683</td>\n",
       "      <td>37.9642</td>\n",
       "      <td>37.9645</td>\n",
       "      <td>38.171</td>\n",
       "      <td>38.1181</td>\n",
       "      <td>37.8778</td>\n",
       "    </tr>\n",
       "    <tr>\n",
       "      <th>f_23</th>\n",
       "      <td>105.767</td>\n",
       "      <td>107.147</td>\n",
       "      <td>107.697</td>\n",
       "      <td>107.399</td>\n",
       "      <td>108.44</td>\n",
       "      <td>107.014</td>\n",
       "      <td>106.734</td>\n",
       "      <td>106.63</td>\n",
       "      <td>107.629</td>\n",
       "      <td>107.449</td>\n",
       "      <td>...</td>\n",
       "      <td>106.402</td>\n",
       "      <td>105.404</td>\n",
       "      <td>106.121</td>\n",
       "      <td>105.831</td>\n",
       "      <td>106.524</td>\n",
       "      <td>105.174</td>\n",
       "      <td>105.578</td>\n",
       "      <td>105.423</td>\n",
       "      <td>105.67</td>\n",
       "      <td>106.441</td>\n",
       "    </tr>\n",
       "    <tr>\n",
       "      <th>f_24</th>\n",
       "      <td>131.088</td>\n",
       "      <td>131.258</td>\n",
       "      <td>130.798</td>\n",
       "      <td>130.747</td>\n",
       "      <td>131.393</td>\n",
       "      <td>131.455</td>\n",
       "      <td>130.512</td>\n",
       "      <td>131.262</td>\n",
       "      <td>131.412</td>\n",
       "      <td>130.914</td>\n",
       "      <td>...</td>\n",
       "      <td>130.28</td>\n",
       "      <td>130.43</td>\n",
       "      <td>129.333</td>\n",
       "      <td>129.569</td>\n",
       "      <td>130.091</td>\n",
       "      <td>129.927</td>\n",
       "      <td>129.918</td>\n",
       "      <td>130.263</td>\n",
       "      <td>130.278</td>\n",
       "      <td>129.702</td>\n",
       "    </tr>\n",
       "    <tr>\n",
       "      <th>f_25</th>\n",
       "      <td>647.015</td>\n",
       "      <td>646.446</td>\n",
       "      <td>647.07</td>\n",
       "      <td>650.295</td>\n",
       "      <td>649.626</td>\n",
       "      <td>647.618</td>\n",
       "      <td>647.423</td>\n",
       "      <td>648.486</td>\n",
       "      <td>647.202</td>\n",
       "      <td>649.078</td>\n",
       "      <td>...</td>\n",
       "      <td>648.294</td>\n",
       "      <td>647.439</td>\n",
       "      <td>647.797</td>\n",
       "      <td>647.04</td>\n",
       "      <td>647.67</td>\n",
       "      <td>647.42</td>\n",
       "      <td>649.23</td>\n",
       "      <td>647.982</td>\n",
       "      <td>648.415</td>\n",
       "      <td>632.494</td>\n",
       "    </tr>\n",
       "    <tr>\n",
       "      <th>f_26</th>\n",
       "      <td>33.2199</td>\n",
       "      <td>32.923</td>\n",
       "      <td>33.1521</td>\n",
       "      <td>33.0592</td>\n",
       "      <td>33.2684</td>\n",
       "      <td>33.1211</td>\n",
       "      <td>33.0425</td>\n",
       "      <td>32.8009</td>\n",
       "      <td>33.0705</td>\n",
       "      <td>32.9822</td>\n",
       "      <td>...</td>\n",
       "      <td>34.9463</td>\n",
       "      <td>34.9571</td>\n",
       "      <td>35.0764</td>\n",
       "      <td>34.945</td>\n",
       "      <td>34.8204</td>\n",
       "      <td>35.1096</td>\n",
       "      <td>34.9886</td>\n",
       "      <td>34.9184</td>\n",
       "      <td>35.0621</td>\n",
       "      <td>35.0162</td>\n",
       "    </tr>\n",
       "    <tr>\n",
       "      <th>f_27</th>\n",
       "      <td>105.078</td>\n",
       "      <td>108.432</td>\n",
       "      <td>106.901</td>\n",
       "      <td>102.416</td>\n",
       "      <td>103.393</td>\n",
       "      <td>110.713</td>\n",
       "      <td>107.362</td>\n",
       "      <td>105.246</td>\n",
       "      <td>104.297</td>\n",
       "      <td>107.738</td>\n",
       "      <td>...</td>\n",
       "      <td>111.517</td>\n",
       "      <td>109.637</td>\n",
       "      <td>110.701</td>\n",
       "      <td>108.344</td>\n",
       "      <td>106.96</td>\n",
       "      <td>106.201</td>\n",
       "      <td>109.959</td>\n",
       "      <td>107.533</td>\n",
       "      <td>106.288</td>\n",
       "      <td>109.62</td>\n",
       "    </tr>\n",
       "    <tr>\n",
       "      <th>f_28</th>\n",
       "      <td>629.912</td>\n",
       "      <td>630.889</td>\n",
       "      <td>626.595</td>\n",
       "      <td>627.654</td>\n",
       "      <td>633.471</td>\n",
       "      <td>633.415</td>\n",
       "      <td>626.764</td>\n",
       "      <td>628.968</td>\n",
       "      <td>632.173</td>\n",
       "      <td>625.831</td>\n",
       "      <td>...</td>\n",
       "      <td>629.009</td>\n",
       "      <td>633.662</td>\n",
       "      <td>632.513</td>\n",
       "      <td>627.841</td>\n",
       "      <td>636.452</td>\n",
       "      <td>627.025</td>\n",
       "      <td>630.478</td>\n",
       "      <td>638.738</td>\n",
       "      <td>628.281</td>\n",
       "      <td>626.73</td>\n",
       "    </tr>\n",
       "    <tr>\n",
       "      <th>f_29</th>\n",
       "      <td>630.899</td>\n",
       "      <td>631.148</td>\n",
       "      <td>631.063</td>\n",
       "      <td>630.178</td>\n",
       "      <td>628.608</td>\n",
       "      <td>630.253</td>\n",
       "      <td>630.898</td>\n",
       "      <td>631.096</td>\n",
       "      <td>630.656</td>\n",
       "      <td>630.859</td>\n",
       "      <td>...</td>\n",
       "      <td>631.824</td>\n",
       "      <td>634.356</td>\n",
       "      <td>632.87</td>\n",
       "      <td>631.612</td>\n",
       "      <td>631.66</td>\n",
       "      <td>632.778</td>\n",
       "      <td>633.621</td>\n",
       "      <td>633.675</td>\n",
       "      <td>632.223</td>\n",
       "      <td>624.589</td>\n",
       "    </tr>\n",
       "    <tr>\n",
       "      <th>f_30</th>\n",
       "      <td>620.608</td>\n",
       "      <td>617.627</td>\n",
       "      <td>618.327</td>\n",
       "      <td>620.007</td>\n",
       "      <td>614.649</td>\n",
       "      <td>618.974</td>\n",
       "      <td>615.994</td>\n",
       "      <td>618.907</td>\n",
       "      <td>617.764</td>\n",
       "      <td>616.227</td>\n",
       "      <td>...</td>\n",
       "      <td>613.27</td>\n",
       "      <td>612.88</td>\n",
       "      <td>615.399</td>\n",
       "      <td>613.63</td>\n",
       "      <td>615.39</td>\n",
       "      <td>615.746</td>\n",
       "      <td>614.066</td>\n",
       "      <td>614.483</td>\n",
       "      <td>616.15</td>\n",
       "      <td>606.633</td>\n",
       "    </tr>\n",
       "    <tr>\n",
       "      <th>f_31</th>\n",
       "      <td>641.471</td>\n",
       "      <td>649.892</td>\n",
       "      <td>636.883</td>\n",
       "      <td>646.111</td>\n",
       "      <td>654.109</td>\n",
       "      <td>647.017</td>\n",
       "      <td>647.793</td>\n",
       "      <td>649.947</td>\n",
       "      <td>640.135</td>\n",
       "      <td>640.395</td>\n",
       "      <td>...</td>\n",
       "      <td>644.449</td>\n",
       "      <td>648.82</td>\n",
       "      <td>641.133</td>\n",
       "      <td>647.737</td>\n",
       "      <td>641.37</td>\n",
       "      <td>639.413</td>\n",
       "      <td>637.713</td>\n",
       "      <td>644.162</td>\n",
       "      <td>646.668</td>\n",
       "      <td>614.696</td>\n",
       "    </tr>\n",
       "    <tr>\n",
       "      <th>f_32</th>\n",
       "      <td>119.666</td>\n",
       "      <td>120.169</td>\n",
       "      <td>120.238</td>\n",
       "      <td>120.197</td>\n",
       "      <td>120.445</td>\n",
       "      <td>113.357</td>\n",
       "      <td>114.217</td>\n",
       "      <td>119.407</td>\n",
       "      <td>119.8</td>\n",
       "      <td>120.394</td>\n",
       "      <td>...</td>\n",
       "      <td>79.7766</td>\n",
       "      <td>80.7925</td>\n",
       "      <td>79.9042</td>\n",
       "      <td>80.3245</td>\n",
       "      <td>80.7608</td>\n",
       "      <td>79.7424</td>\n",
       "      <td>79.753</td>\n",
       "      <td>80.5061</td>\n",
       "      <td>79.9922</td>\n",
       "      <td>80.4937</td>\n",
       "    </tr>\n",
       "    <tr>\n",
       "      <th>f_33</th>\n",
       "      <td>9.46802</td>\n",
       "      <td>9.49281</td>\n",
       "      <td>9.50147</td>\n",
       "      <td>9.52194</td>\n",
       "      <td>9.52466</td>\n",
       "      <td>9.54691</td>\n",
       "      <td>9.5223</td>\n",
       "      <td>9.54723</td>\n",
       "      <td>9.52923</td>\n",
       "      <td>9.53392</td>\n",
       "      <td>...</td>\n",
       "      <td>6.83354</td>\n",
       "      <td>6.87904</td>\n",
       "      <td>6.8719</td>\n",
       "      <td>6.85116</td>\n",
       "      <td>6.85658</td>\n",
       "      <td>6.87307</td>\n",
       "      <td>6.89516</td>\n",
       "      <td>6.85796</td>\n",
       "      <td>6.85166</td>\n",
       "      <td>6.2159</td>\n",
       "    </tr>\n",
       "    <tr>\n",
       "      <th>f_34</th>\n",
       "      <td>8.72079</td>\n",
       "      <td>8.67295</td>\n",
       "      <td>8.75427</td>\n",
       "      <td>8.67989</td>\n",
       "      <td>8.73713</td>\n",
       "      <td>8.75029</td>\n",
       "      <td>8.68972</td>\n",
       "      <td>8.74516</td>\n",
       "      <td>8.7026</td>\n",
       "      <td>8.7843</td>\n",
       "      <td>...</td>\n",
       "      <td>8.51113</td>\n",
       "      <td>8.57227</td>\n",
       "      <td>8.61934</td>\n",
       "      <td>8.59289</td>\n",
       "      <td>8.53022</td>\n",
       "      <td>8.95541</td>\n",
       "      <td>9.26987</td>\n",
       "      <td>8.9477</td>\n",
       "      <td>9.06064</td>\n",
       "      <td>8.44198</td>\n",
       "    </tr>\n",
       "    <tr>\n",
       "      <th>f_35</th>\n",
       "      <td>9.49173</td>\n",
       "      <td>9.44288</td>\n",
       "      <td>9.40675</td>\n",
       "      <td>9.46263</td>\n",
       "      <td>9.41724</td>\n",
       "      <td>9.39505</td>\n",
       "      <td>9.43173</td>\n",
       "      <td>9.3756</td>\n",
       "      <td>9.44252</td>\n",
       "      <td>9.48714</td>\n",
       "      <td>...</td>\n",
       "      <td>7.217</td>\n",
       "      <td>7.26153</td>\n",
       "      <td>7.18566</td>\n",
       "      <td>7.27618</td>\n",
       "      <td>7.29615</td>\n",
       "      <td>7.24904</td>\n",
       "      <td>7.48095</td>\n",
       "      <td>7.46566</td>\n",
       "      <td>7.43007</td>\n",
       "      <td>7.23734</td>\n",
       "    </tr>\n",
       "    <tr>\n",
       "      <th>f_36</th>\n",
       "      <td>NaN</td>\n",
       "      <td>NaN</td>\n",
       "      <td>NaN</td>\n",
       "      <td>NaN</td>\n",
       "      <td>NaN</td>\n",
       "      <td>NaN</td>\n",
       "      <td>NaN</td>\n",
       "      <td>NaN</td>\n",
       "      <td>NaN</td>\n",
       "      <td>NaN</td>\n",
       "      <td>...</td>\n",
       "      <td>50.0253</td>\n",
       "      <td>49.9347</td>\n",
       "      <td>49.894</td>\n",
       "      <td>49.8688</td>\n",
       "      <td>49.9299</td>\n",
       "      <td>49.9813</td>\n",
       "      <td>49.8761</td>\n",
       "      <td>49.9814</td>\n",
       "      <td>49.9831</td>\n",
       "      <td>50.0821</td>\n",
       "    </tr>\n",
       "    <tr>\n",
       "      <th>f_37</th>\n",
       "      <td>NaN</td>\n",
       "      <td>NaN</td>\n",
       "      <td>NaN</td>\n",
       "      <td>NaN</td>\n",
       "      <td>NaN</td>\n",
       "      <td>NaN</td>\n",
       "      <td>NaN</td>\n",
       "      <td>NaN</td>\n",
       "      <td>NaN</td>\n",
       "      <td>NaN</td>\n",
       "      <td>...</td>\n",
       "      <td>50.1172</td>\n",
       "      <td>49.9402</td>\n",
       "      <td>50.0709</td>\n",
       "      <td>49.9895</td>\n",
       "      <td>49.9611</td>\n",
       "      <td>50.0387</td>\n",
       "      <td>49.9545</td>\n",
       "      <td>50.1341</td>\n",
       "      <td>50.0316</td>\n",
       "      <td>49.9454</td>\n",
       "    </tr>\n",
       "    <tr>\n",
       "      <th>f_38</th>\n",
       "      <td>NaN</td>\n",
       "      <td>NaN</td>\n",
       "      <td>NaN</td>\n",
       "      <td>NaN</td>\n",
       "      <td>NaN</td>\n",
       "      <td>NaN</td>\n",
       "      <td>NaN</td>\n",
       "      <td>NaN</td>\n",
       "      <td>NaN</td>\n",
       "      <td>NaN</td>\n",
       "      <td>...</td>\n",
       "      <td>48.8912</td>\n",
       "      <td>48.8525</td>\n",
       "      <td>48.8996</td>\n",
       "      <td>49.0332</td>\n",
       "      <td>49.017</td>\n",
       "      <td>49.0108</td>\n",
       "      <td>48.9737</td>\n",
       "      <td>48.9301</td>\n",
       "      <td>48.9987</td>\n",
       "      <td>48.9688</td>\n",
       "    </tr>\n",
       "    <tr>\n",
       "      <th>f_39</th>\n",
       "      <td>NaN</td>\n",
       "      <td>NaN</td>\n",
       "      <td>NaN</td>\n",
       "      <td>NaN</td>\n",
       "      <td>NaN</td>\n",
       "      <td>NaN</td>\n",
       "      <td>NaN</td>\n",
       "      <td>NaN</td>\n",
       "      <td>NaN</td>\n",
       "      <td>NaN</td>\n",
       "      <td>...</td>\n",
       "      <td>49.9471</td>\n",
       "      <td>50.1697</td>\n",
       "      <td>49.9349</td>\n",
       "      <td>49.8743</td>\n",
       "      <td>50.2093</td>\n",
       "      <td>49.9604</td>\n",
       "      <td>49.8904</td>\n",
       "      <td>50.2055</td>\n",
       "      <td>49.9726</td>\n",
       "      <td>50.0643</td>\n",
       "    </tr>\n",
       "    <tr>\n",
       "      <th>f_40</th>\n",
       "      <td>NaN</td>\n",
       "      <td>NaN</td>\n",
       "      <td>NaN</td>\n",
       "      <td>NaN</td>\n",
       "      <td>NaN</td>\n",
       "      <td>NaN</td>\n",
       "      <td>NaN</td>\n",
       "      <td>NaN</td>\n",
       "      <td>NaN</td>\n",
       "      <td>NaN</td>\n",
       "      <td>...</td>\n",
       "      <td>0.696694</td>\n",
       "      <td>0.706749</td>\n",
       "      <td>0.703649</td>\n",
       "      <td>0.710343</td>\n",
       "      <td>0.695807</td>\n",
       "      <td>0.703573</td>\n",
       "      <td>0.705055</td>\n",
       "      <td>0.716554</td>\n",
       "      <td>0.713102</td>\n",
       "      <td>0.735438</td>\n",
       "    </tr>\n",
       "    <tr>\n",
       "      <th>f_41</th>\n",
       "      <td>NaN</td>\n",
       "      <td>NaN</td>\n",
       "      <td>NaN</td>\n",
       "      <td>NaN</td>\n",
       "      <td>NaN</td>\n",
       "      <td>NaN</td>\n",
       "      <td>NaN</td>\n",
       "      <td>NaN</td>\n",
       "      <td>NaN</td>\n",
       "      <td>NaN</td>\n",
       "      <td>...</td>\n",
       "      <td>NaN</td>\n",
       "      <td>NaN</td>\n",
       "      <td>NaN</td>\n",
       "      <td>NaN</td>\n",
       "      <td>NaN</td>\n",
       "      <td>NaN</td>\n",
       "      <td>NaN</td>\n",
       "      <td>NaN</td>\n",
       "      <td>NaN</td>\n",
       "      <td>NaN</td>\n",
       "    </tr>\n",
       "    <tr>\n",
       "      <th>f_42</th>\n",
       "      <td>NaN</td>\n",
       "      <td>NaN</td>\n",
       "      <td>NaN</td>\n",
       "      <td>NaN</td>\n",
       "      <td>NaN</td>\n",
       "      <td>NaN</td>\n",
       "      <td>NaN</td>\n",
       "      <td>NaN</td>\n",
       "      <td>NaN</td>\n",
       "      <td>NaN</td>\n",
       "      <td>...</td>\n",
       "      <td>NaN</td>\n",
       "      <td>NaN</td>\n",
       "      <td>NaN</td>\n",
       "      <td>NaN</td>\n",
       "      <td>NaN</td>\n",
       "      <td>NaN</td>\n",
       "      <td>NaN</td>\n",
       "      <td>NaN</td>\n",
       "      <td>NaN</td>\n",
       "      <td>NaN</td>\n",
       "    </tr>\n",
       "    <tr>\n",
       "      <th>f_43</th>\n",
       "      <td>10518.4</td>\n",
       "      <td>10529.4</td>\n",
       "      <td>10472.5</td>\n",
       "      <td>10481.2</td>\n",
       "      <td>10488.9</td>\n",
       "      <td>10511.6</td>\n",
       "      <td>10566.3</td>\n",
       "      <td>10488.7</td>\n",
       "      <td>10532.2</td>\n",
       "      <td>10406.2</td>\n",
       "      <td>...</td>\n",
       "      <td>9609.2</td>\n",
       "      <td>9536.7</td>\n",
       "      <td>9589.89</td>\n",
       "      <td>9496.65</td>\n",
       "      <td>9590.57</td>\n",
       "      <td>9718.64</td>\n",
       "      <td>9552.13</td>\n",
       "      <td>9545.48</td>\n",
       "      <td>9599.43</td>\n",
       "      <td>9749.66</td>\n",
       "    </tr>\n",
       "    <tr>\n",
       "      <th>f_44</th>\n",
       "      <td>235582</td>\n",
       "      <td>236304</td>\n",
       "      <td>237051</td>\n",
       "      <td>236369</td>\n",
       "      <td>235311</td>\n",
       "      <td>235472</td>\n",
       "      <td>235326</td>\n",
       "      <td>236058</td>\n",
       "      <td>235835</td>\n",
       "      <td>236708</td>\n",
       "      <td>...</td>\n",
       "      <td>194538</td>\n",
       "      <td>195006</td>\n",
       "      <td>193255</td>\n",
       "      <td>194922</td>\n",
       "      <td>197831</td>\n",
       "      <td>196406</td>\n",
       "      <td>194827</td>\n",
       "      <td>196190</td>\n",
       "      <td>196459</td>\n",
       "      <td>192208</td>\n",
       "    </tr>\n",
       "    <tr>\n",
       "      <th>f_45</th>\n",
       "      <td>10271.9</td>\n",
       "      <td>10185.3</td>\n",
       "      <td>10149.7</td>\n",
       "      <td>10182.5</td>\n",
       "      <td>10064.4</td>\n",
       "      <td>10114.9</td>\n",
       "      <td>10195.5</td>\n",
       "      <td>10157.5</td>\n",
       "      <td>10201</td>\n",
       "      <td>10203.6</td>\n",
       "      <td>...</td>\n",
       "      <td>8966.82</td>\n",
       "      <td>8929.21</td>\n",
       "      <td>8939.33</td>\n",
       "      <td>8856.95</td>\n",
       "      <td>8942.07</td>\n",
       "      <td>9006.11</td>\n",
       "      <td>8881.04</td>\n",
       "      <td>8890.53</td>\n",
       "      <td>8966.26</td>\n",
       "      <td>8755.06</td>\n",
       "    </tr>\n",
       "    <tr>\n",
       "      <th>f_46</th>\n",
       "      <td>1.71893</td>\n",
       "      <td>18.4542</td>\n",
       "      <td>5.76479</td>\n",
       "      <td>8.33015</td>\n",
       "      <td>7.22285</td>\n",
       "      <td>9.22859</td>\n",
       "      <td>8.47054</td>\n",
       "      <td>4.21563</td>\n",
       "      <td>10.7639</td>\n",
       "      <td>7.08301</td>\n",
       "      <td>...</td>\n",
       "      <td>1.00432</td>\n",
       "      <td>8.34965</td>\n",
       "      <td>3.22805</td>\n",
       "      <td>4.2645</td>\n",
       "      <td>7.36817</td>\n",
       "      <td>3.67432</td>\n",
       "      <td>8.20803</td>\n",
       "      <td>8.27183</td>\n",
       "      <td>7.15816</td>\n",
       "      <td>15.8299</td>\n",
       "    </tr>\n",
       "    <tr>\n",
       "      <th>f_47</th>\n",
       "      <td>64589.5</td>\n",
       "      <td>64736.4</td>\n",
       "      <td>64638.2</td>\n",
       "      <td>64407</td>\n",
       "      <td>64137.3</td>\n",
       "      <td>64234.8</td>\n",
       "      <td>64993.5</td>\n",
       "      <td>65044.3</td>\n",
       "      <td>65858.8</td>\n",
       "      <td>65520</td>\n",
       "      <td>...</td>\n",
       "      <td>53632.3</td>\n",
       "      <td>52876</td>\n",
       "      <td>52998.2</td>\n",
       "      <td>53073.9</td>\n",
       "      <td>52081.4</td>\n",
       "      <td>52354.1</td>\n",
       "      <td>54012.8</td>\n",
       "      <td>54743.3</td>\n",
       "      <td>54373.8</td>\n",
       "      <td>52402.3</td>\n",
       "    </tr>\n",
       "  </tbody>\n",
       "</table>\n",
       "<p>49 rows × 13272 columns</p>\n",
       "</div>"
      ],
      "text/plain": [
       "                         0                    1                    2      \\\n",
       "timestamp  2016-10-24 16:00:00  2016-10-24 17:00:00  2016-10-24 18:00:00   \n",
       "f_0                        NaN                  NaN                  NaN   \n",
       "f_1                        NaN                  NaN                  NaN   \n",
       "f_2                        NaN                  NaN                  NaN   \n",
       "f_3                -0.00538321             0.103383           -0.0048521   \n",
       "f_4                    6.25191              6.46508              6.31527   \n",
       "f_5                  0.0223037            0.0116926          -0.00307206   \n",
       "f_6                     1.4667              1.26701              1.21685   \n",
       "f_7                    11.1739              12.9876              12.8248   \n",
       "f_8                     236232               236736               235780   \n",
       "f_9                     239142               237599               238314   \n",
       "f_10                    236048               234667               236596   \n",
       "f_11                   10388.1              10342.3              10311.4   \n",
       "f_12                   10301.1              10243.5              10295.6   \n",
       "f_13                   10514.1              10522.4                10545   \n",
       "f_14                   45.3308              45.3465              42.4962   \n",
       "f_15                   114.308              113.573              113.961   \n",
       "f_16                   130.949              131.135               130.36   \n",
       "f_17                   41.0573              40.8793              40.8343   \n",
       "f_18                   105.974              106.377              105.844   \n",
       "f_19                   129.768              131.056              130.375   \n",
       "f_20                   643.938              645.647              644.225   \n",
       "f_21                   641.806              644.468              643.545   \n",
       "f_22                   37.8648              37.9987              37.9349   \n",
       "f_23                   105.767              107.147              107.697   \n",
       "f_24                   131.088              131.258              130.798   \n",
       "f_25                   647.015              646.446               647.07   \n",
       "f_26                   33.2199               32.923              33.1521   \n",
       "f_27                   105.078              108.432              106.901   \n",
       "f_28                   629.912              630.889              626.595   \n",
       "f_29                   630.899              631.148              631.063   \n",
       "f_30                   620.608              617.627              618.327   \n",
       "f_31                   641.471              649.892              636.883   \n",
       "f_32                   119.666              120.169              120.238   \n",
       "f_33                   9.46802              9.49281              9.50147   \n",
       "f_34                   8.72079              8.67295              8.75427   \n",
       "f_35                   9.49173              9.44288              9.40675   \n",
       "f_36                       NaN                  NaN                  NaN   \n",
       "f_37                       NaN                  NaN                  NaN   \n",
       "f_38                       NaN                  NaN                  NaN   \n",
       "f_39                       NaN                  NaN                  NaN   \n",
       "f_40                       NaN                  NaN                  NaN   \n",
       "f_41                       NaN                  NaN                  NaN   \n",
       "f_42                       NaN                  NaN                  NaN   \n",
       "f_43                   10518.4              10529.4              10472.5   \n",
       "f_44                    235582               236304               237051   \n",
       "f_45                   10271.9              10185.3              10149.7   \n",
       "f_46                   1.71893              18.4542              5.76479   \n",
       "f_47                   64589.5              64736.4              64638.2   \n",
       "\n",
       "                         3                    4                    5      \\\n",
       "timestamp  2016-10-24 19:00:00  2016-10-24 20:00:00  2016-10-24 21:00:00   \n",
       "f_0                        NaN              98.9127                  NaN   \n",
       "f_1                        NaN             0.336871                  NaN   \n",
       "f_2                        NaN              27.8974                  NaN   \n",
       "f_3                   0.131502            0.0181929           0.00860145   \n",
       "f_4                    6.43795              6.21786              6.34401   \n",
       "f_5                 -0.0122403            0.0155345           -0.0213528   \n",
       "f_6                    1.16237              1.28753              1.20728   \n",
       "f_7                    6.67832              5.74119               6.4352   \n",
       "f_8                     236091               234845               235558   \n",
       "f_9                     238923               237358               237019   \n",
       "f_10                    236213               235496               234171   \n",
       "f_11                     10232                10323              10285.3   \n",
       "f_12                   10208.1              10202.4              10257.9   \n",
       "f_13                   10417.1              10470.8              10533.7   \n",
       "f_14                   45.5465              49.7685              41.3815   \n",
       "f_15                   114.132              113.853                113.9   \n",
       "f_16                   131.414              130.553              131.562   \n",
       "f_17                    40.523              40.8464              41.3943   \n",
       "f_18                   106.029              105.259              106.163   \n",
       "f_19                   130.273              130.955              131.287   \n",
       "f_20                   643.569              644.418              643.553   \n",
       "f_21                   644.813              644.911              646.731   \n",
       "f_22                   38.0284              38.2349               37.817   \n",
       "f_23                   107.399               108.44              107.014   \n",
       "f_24                   130.747              131.393              131.455   \n",
       "f_25                   650.295              649.626              647.618   \n",
       "f_26                   33.0592              33.2684              33.1211   \n",
       "f_27                   102.416              103.393              110.713   \n",
       "f_28                   627.654              633.471              633.415   \n",
       "f_29                   630.178              628.608              630.253   \n",
       "f_30                   620.007              614.649              618.974   \n",
       "f_31                   646.111              654.109              647.017   \n",
       "f_32                   120.197              120.445              113.357   \n",
       "f_33                   9.52194              9.52466              9.54691   \n",
       "f_34                   8.67989              8.73713              8.75029   \n",
       "f_35                   9.46263              9.41724              9.39505   \n",
       "f_36                       NaN                  NaN                  NaN   \n",
       "f_37                       NaN                  NaN                  NaN   \n",
       "f_38                       NaN                  NaN                  NaN   \n",
       "f_39                       NaN                  NaN                  NaN   \n",
       "f_40                       NaN                  NaN                  NaN   \n",
       "f_41                       NaN                  NaN                  NaN   \n",
       "f_42                       NaN                  NaN                  NaN   \n",
       "f_43                   10481.2              10488.9              10511.6   \n",
       "f_44                    236369               235311               235472   \n",
       "f_45                   10182.5              10064.4              10114.9   \n",
       "f_46                   8.33015              7.22285              9.22859   \n",
       "f_47                     64407              64137.3              64234.8   \n",
       "\n",
       "                         6                    7                    8      \\\n",
       "timestamp  2016-10-24 22:00:00  2016-10-24 23:00:00  2016-10-25 00:00:00   \n",
       "f_0                        NaN                  NaN                  NaN   \n",
       "f_1                        NaN                  NaN                  NaN   \n",
       "f_2                        NaN                  NaN                  NaN   \n",
       "f_3                  0.0186855            -0.010295            0.0172582   \n",
       "f_4                    6.22559              5.87599              5.74683   \n",
       "f_5                -0.00124564           0.00662123           -0.0168667   \n",
       "f_6                    1.29017              1.41675              1.26293   \n",
       "f_7                    10.8708                14.94              10.8624   \n",
       "f_8                     235863               235594               235060   \n",
       "f_9                     238058               238126               238175   \n",
       "f_10                    234647               236143               236318   \n",
       "f_11                   10360.5              10311.4              10385.1   \n",
       "f_12                   10284.8              10251.1              10325.2   \n",
       "f_13                   10555.5              10494.9              10519.4   \n",
       "f_14                   38.0938               44.869              44.0701   \n",
       "f_15                   114.631              114.114              113.746   \n",
       "f_16                   131.412              131.462              131.366   \n",
       "f_17                   41.1709              41.2452              40.8552   \n",
       "f_18                   105.861              105.646              106.164   \n",
       "f_19                   130.467              129.814              129.929   \n",
       "f_20                   644.289              644.397              642.731   \n",
       "f_21                    643.64              641.192              645.983   \n",
       "f_22                    38.158              38.0068               38.153   \n",
       "f_23                   106.734               106.63              107.629   \n",
       "f_24                   130.512              131.262              131.412   \n",
       "f_25                   647.423              648.486              647.202   \n",
       "f_26                   33.0425              32.8009              33.0705   \n",
       "f_27                   107.362              105.246              104.297   \n",
       "f_28                   626.764              628.968              632.173   \n",
       "f_29                   630.898              631.096              630.656   \n",
       "f_30                   615.994              618.907              617.764   \n",
       "f_31                   647.793              649.947              640.135   \n",
       "f_32                   114.217              119.407                119.8   \n",
       "f_33                    9.5223              9.54723              9.52923   \n",
       "f_34                   8.68972              8.74516               8.7026   \n",
       "f_35                   9.43173               9.3756              9.44252   \n",
       "f_36                       NaN                  NaN                  NaN   \n",
       "f_37                       NaN                  NaN                  NaN   \n",
       "f_38                       NaN                  NaN                  NaN   \n",
       "f_39                       NaN                  NaN                  NaN   \n",
       "f_40                       NaN                  NaN                  NaN   \n",
       "f_41                       NaN                  NaN                  NaN   \n",
       "f_42                       NaN                  NaN                  NaN   \n",
       "f_43                   10566.3              10488.7              10532.2   \n",
       "f_44                    235326               236058               235835   \n",
       "f_45                   10195.5              10157.5                10201   \n",
       "f_46                   8.47054              4.21563              10.7639   \n",
       "f_47                   64993.5              65044.3              65858.8   \n",
       "\n",
       "                         9             ...                         13262  \\\n",
       "timestamp  2016-10-25 01:00:00         ...           2018-04-30 06:00:00   \n",
       "f_0                        NaN         ...                           NaN   \n",
       "f_1                        NaN         ...                           NaN   \n",
       "f_2                        NaN         ...                           NaN   \n",
       "f_3                 0.00807089         ...                      0.033991   \n",
       "f_4                    5.83773         ...                     0.0298159   \n",
       "f_5                -0.00152409         ...                    0.00954087   \n",
       "f_6                    1.38025         ...                      0.139093   \n",
       "f_7                    9.84177         ...                       3.60166   \n",
       "f_8                     236566         ...                        194684   \n",
       "f_9                     237888         ...                        196567   \n",
       "f_10                    233834         ...                        194939   \n",
       "f_11                     10312         ...                       9388.76   \n",
       "f_12                   10215.4         ...                       9431.77   \n",
       "f_13                   10489.4         ...                       9585.38   \n",
       "f_14                   41.2098         ...                       40.6236   \n",
       "f_15                   114.002         ...                       115.552   \n",
       "f_16                   131.275         ...                       131.507   \n",
       "f_17                   41.0132         ...                       41.3068   \n",
       "f_18                   106.323         ...                       109.425   \n",
       "f_19                   130.809         ...                       131.701   \n",
       "f_20                   642.613         ...                       645.225   \n",
       "f_21                   644.791         ...                       649.919   \n",
       "f_22                   38.0085         ...                       37.8115   \n",
       "f_23                   107.449         ...                       106.402   \n",
       "f_24                   130.914         ...                        130.28   \n",
       "f_25                   649.078         ...                       648.294   \n",
       "f_26                   32.9822         ...                       34.9463   \n",
       "f_27                   107.738         ...                       111.517   \n",
       "f_28                   625.831         ...                       629.009   \n",
       "f_29                   630.859         ...                       631.824   \n",
       "f_30                   616.227         ...                        613.27   \n",
       "f_31                   640.395         ...                       644.449   \n",
       "f_32                   120.394         ...                       79.7766   \n",
       "f_33                   9.53392         ...                       6.83354   \n",
       "f_34                    8.7843         ...                       8.51113   \n",
       "f_35                   9.48714         ...                         7.217   \n",
       "f_36                       NaN         ...                       50.0253   \n",
       "f_37                       NaN         ...                       50.1172   \n",
       "f_38                       NaN         ...                       48.8912   \n",
       "f_39                       NaN         ...                       49.9471   \n",
       "f_40                       NaN         ...                      0.696694   \n",
       "f_41                       NaN         ...                           NaN   \n",
       "f_42                       NaN         ...                           NaN   \n",
       "f_43                   10406.2         ...                        9609.2   \n",
       "f_44                    236708         ...                        194538   \n",
       "f_45                   10203.6         ...                       8966.82   \n",
       "f_46                   7.08301         ...                       1.00432   \n",
       "f_47                     65520         ...                       53632.3   \n",
       "\n",
       "                         13263                13264                13265  \\\n",
       "timestamp  2018-04-30 07:00:00  2018-04-30 08:00:00  2018-04-30 09:00:00   \n",
       "f_0                        NaN              99.0537                  NaN   \n",
       "f_1                        NaN             0.349084                  NaN   \n",
       "f_2                        NaN              26.9072                  NaN   \n",
       "f_3                 0.00491675           0.00576931           -0.0182285   \n",
       "f_4                   0.143796             0.122485             0.121472   \n",
       "f_5                 -0.0377618           0.00576362           -0.0151338   \n",
       "f_6                   0.238765             0.136352             0.101557   \n",
       "f_7                   0.900297             -3.30977             -1.09239   \n",
       "f_8                     193250               194489               193567   \n",
       "f_9                     196516               195518               195028   \n",
       "f_10                    194515               192260               193495   \n",
       "f_11                   9358.06              9427.97              9282.33   \n",
       "f_12                   9419.29              9362.76              9286.41   \n",
       "f_13                    9536.2              9540.51              9478.55   \n",
       "f_14                   39.2169              40.4948              41.4889   \n",
       "f_15                   115.301              116.174              117.244   \n",
       "f_16                   130.436              131.091               131.58   \n",
       "f_17                   41.2416               41.428                41.16   \n",
       "f_18                   108.997              109.201              108.931   \n",
       "f_19                   132.482              131.714              131.886   \n",
       "f_20                    645.68              644.776              643.346   \n",
       "f_21                   646.964              648.192                  651   \n",
       "f_22                   37.7782              38.1674              38.2985   \n",
       "f_23                   105.404              106.121              105.831   \n",
       "f_24                    130.43              129.333              129.569   \n",
       "f_25                   647.439              647.797               647.04   \n",
       "f_26                   34.9571              35.0764               34.945   \n",
       "f_27                   109.637              110.701              108.344   \n",
       "f_28                   633.662              632.513              627.841   \n",
       "f_29                   634.356               632.87              631.612   \n",
       "f_30                    612.88              615.399               613.63   \n",
       "f_31                    648.82              641.133              647.737   \n",
       "f_32                   80.7925              79.9042              80.3245   \n",
       "f_33                   6.87904               6.8719              6.85116   \n",
       "f_34                   8.57227              8.61934              8.59289   \n",
       "f_35                   7.26153              7.18566              7.27618   \n",
       "f_36                   49.9347               49.894              49.8688   \n",
       "f_37                   49.9402              50.0709              49.9895   \n",
       "f_38                   48.8525              48.8996              49.0332   \n",
       "f_39                   50.1697              49.9349              49.8743   \n",
       "f_40                  0.706749             0.703649             0.710343   \n",
       "f_41                       NaN                  NaN                  NaN   \n",
       "f_42                       NaN                  NaN                  NaN   \n",
       "f_43                    9536.7              9589.89              9496.65   \n",
       "f_44                    195006               193255               194922   \n",
       "f_45                   8929.21              8939.33              8856.95   \n",
       "f_46                   8.34965              3.22805               4.2645   \n",
       "f_47                     52876              52998.2              53073.9   \n",
       "\n",
       "                         13266                13267                13268  \\\n",
       "timestamp  2018-04-30 10:00:00  2018-04-30 11:00:00  2018-04-30 12:00:00   \n",
       "f_0                        NaN                  NaN                  NaN   \n",
       "f_1                        NaN                  NaN                  NaN   \n",
       "f_2                        NaN                  NaN                  NaN   \n",
       "f_3                 -0.0108977            0.0069725             0.010679   \n",
       "f_4                   0.127025           0.00220551            0.0492557   \n",
       "f_5                -0.00551036           -0.0209024            0.0565243   \n",
       "f_6                   0.124532            0.0739482             -0.09259   \n",
       "f_7                    4.28618             -1.04522              0.61265   \n",
       "f_8                     195674               195904               195010   \n",
       "f_9                     196789               197389               196560   \n",
       "f_10                    196980               195719               195230   \n",
       "f_11                   9371.25              9549.67              9289.13   \n",
       "f_12                   9381.83               9553.4              9407.89   \n",
       "f_13                   9600.03               9647.3              9498.32   \n",
       "f_14                   39.4117              45.9092               39.823   \n",
       "f_15                   117.708              116.131                115.3   \n",
       "f_16                   131.251              131.539              131.368   \n",
       "f_17                   41.2444              41.5143              41.2878   \n",
       "f_18                   109.494              108.795              108.885   \n",
       "f_19                   131.484              130.062              131.096   \n",
       "f_20                    644.96              646.002              645.158   \n",
       "f_21                   646.605              644.922              644.606   \n",
       "f_22                   38.0683              37.9642              37.9645   \n",
       "f_23                   106.524              105.174              105.578   \n",
       "f_24                   130.091              129.927              129.918   \n",
       "f_25                    647.67               647.42               649.23   \n",
       "f_26                   34.8204              35.1096              34.9886   \n",
       "f_27                    106.96              106.201              109.959   \n",
       "f_28                   636.452              627.025              630.478   \n",
       "f_29                    631.66              632.778              633.621   \n",
       "f_30                    615.39              615.746              614.066   \n",
       "f_31                    641.37              639.413              637.713   \n",
       "f_32                   80.7608              79.7424               79.753   \n",
       "f_33                   6.85658              6.87307              6.89516   \n",
       "f_34                   8.53022              8.95541              9.26987   \n",
       "f_35                   7.29615              7.24904              7.48095   \n",
       "f_36                   49.9299              49.9813              49.8761   \n",
       "f_37                   49.9611              50.0387              49.9545   \n",
       "f_38                    49.017              49.0108              48.9737   \n",
       "f_39                   50.2093              49.9604              49.8904   \n",
       "f_40                  0.695807             0.703573             0.705055   \n",
       "f_41                       NaN                  NaN                  NaN   \n",
       "f_42                       NaN                  NaN                  NaN   \n",
       "f_43                   9590.57              9718.64              9552.13   \n",
       "f_44                    197831               196406               194827   \n",
       "f_45                   8942.07              9006.11              8881.04   \n",
       "f_46                   7.36817              3.67432              8.20803   \n",
       "f_47                   52081.4              52354.1              54012.8   \n",
       "\n",
       "                         13269                13270                13271  \n",
       "timestamp  2018-04-30 13:00:00  2018-04-30 14:00:00  2018-04-30 15:00:00  \n",
       "f_0                        NaN                  NaN                  NaN  \n",
       "f_1                        NaN                  NaN                  NaN  \n",
       "f_2                        NaN                  NaN                  NaN  \n",
       "f_3                -0.00661649          0.000707764            0.0169344  \n",
       "f_4                  0.0743141             0.105542            0.0239832  \n",
       "f_5                 0.00816418          -0.00226166           0.00145374  \n",
       "f_6                  0.0556571             0.161125           -0.0169616  \n",
       "f_7                    3.03149              3.74026             -3.26811  \n",
       "f_8                     195797               195143               190021  \n",
       "f_9                     197068               196522               191101  \n",
       "f_10                    195255               195649               189849  \n",
       "f_11                   9427.52              9432.48              9561.23  \n",
       "f_12                   9511.48              9478.66              9558.05  \n",
       "f_13                   9623.71               9572.4              9724.88  \n",
       "f_14                   37.4002              42.2406              44.6183  \n",
       "f_15                    115.89              115.747              116.235  \n",
       "f_16                   131.025              130.542              131.596  \n",
       "f_17                   41.2719              41.3103              41.0414  \n",
       "f_18                   109.012              108.801                108.6  \n",
       "f_19                    131.25              130.314              130.581  \n",
       "f_20                   644.554              644.126              624.047  \n",
       "f_21                   649.737              645.511              631.649  \n",
       "f_22                    38.171              38.1181              37.8778  \n",
       "f_23                   105.423               105.67              106.441  \n",
       "f_24                   130.263              130.278              129.702  \n",
       "f_25                   647.982              648.415              632.494  \n",
       "f_26                   34.9184              35.0621              35.0162  \n",
       "f_27                   107.533              106.288               109.62  \n",
       "f_28                   638.738              628.281               626.73  \n",
       "f_29                   633.675              632.223              624.589  \n",
       "f_30                   614.483               616.15              606.633  \n",
       "f_31                   644.162              646.668              614.696  \n",
       "f_32                   80.5061              79.9922              80.4937  \n",
       "f_33                   6.85796              6.85166               6.2159  \n",
       "f_34                    8.9477              9.06064              8.44198  \n",
       "f_35                   7.46566              7.43007              7.23734  \n",
       "f_36                   49.9814              49.9831              50.0821  \n",
       "f_37                   50.1341              50.0316              49.9454  \n",
       "f_38                   48.9301              48.9987              48.9688  \n",
       "f_39                   50.2055              49.9726              50.0643  \n",
       "f_40                  0.716554             0.713102             0.735438  \n",
       "f_41                       NaN                  NaN                  NaN  \n",
       "f_42                       NaN                  NaN                  NaN  \n",
       "f_43                   9545.48              9599.43              9749.66  \n",
       "f_44                    196190               196459               192208  \n",
       "f_45                   8890.53              8966.26              8755.06  \n",
       "f_46                   8.27183              7.15816              15.8299  \n",
       "f_47                   54743.3              54373.8              52402.3  \n",
       "\n",
       "[49 rows x 13272 columns]"
      ]
     },
     "execution_count": 19,
     "metadata": {},
     "output_type": "execute_result"
    }
   ],
   "source": [
    "sensors.T"
   ]
  },
  {
   "cell_type": "markdown",
   "metadata": {},
   "source": [
    "## Validation Set"
   ]
  },
  {
   "cell_type": "code",
   "execution_count": 20,
   "metadata": {},
   "outputs": [],
   "source": [
    "def create_validation(data, target, val_size=1400):\n",
    "    label_size = len(target)\n",
    "    train_size = len(target) - val_size\n",
    "    X_train = data.iloc[:train_size, :]\n",
    "    y_train = target.iloc[:train_size, :]\n",
    "    X_test = data.iloc[train_size:label_size, :]\n",
    "    y_test = target.iloc[train_size:label_size, :]\n",
    "    return X_train, y_train, X_test, y_test"
   ]
  },
  {
   "cell_type": "code",
   "execution_count": 21,
   "metadata": {},
   "outputs": [],
   "source": [
    "def rmse(y_actual, y_predicted):\n",
    "    return sqrt(mean_squared_error(y_actual, y_predicted))"
   ]
  },
  {
   "cell_type": "code",
   "execution_count": 22,
   "metadata": {},
   "outputs": [],
   "source": [
    "def validate(y_actual, y_predicted, message=None, check_only=True):\n",
    "    metric = rmse(y_actual, y_predicted)\n",
    "    if check_only:\n",
    "        return metric\n",
    "    METRICS.append((message, metric))\n",
    "    print(METRICS)"
   ]
  },
  {
   "cell_type": "code",
   "execution_count": 23,
   "metadata": {},
   "outputs": [],
   "source": [
    "train = sensors.set_index('timestamp').iloc[:10400, :]"
   ]
  },
  {
   "cell_type": "code",
   "execution_count": 24,
   "metadata": {},
   "outputs": [],
   "source": [
    "def merge_with_targets(train, targets, target_col):\n",
    "    return train.join(targets.drop(target_col, axis=1), how='right')"
   ]
  },
  {
   "cell_type": "code",
   "execution_count": 145,
   "metadata": {},
   "outputs": [],
   "source": [
    "def run_lgbm(sensors, targets, target_col, test_size=1000, use_targets=False, reg=None):\n",
    "    train = sensors.set_index('timestamp').iloc[:len(targets), :]\n",
    "    if use_targets:\n",
    "        train = merge_with_targets(train, targets, target_col)  \n",
    "    X_train, X_test, y_train, y_test = train_test_split(train, targets, \n",
    "                                                        test_size=test_size, \n",
    "                                                        shuffle=False)\n",
    "    if not reg:\n",
    "        reg = LGBMRegressor(random_state=42)\n",
    "    reg.fit(X_train, y_train[target_col])\n",
    "    preds = np.array(reg.predict(X_test))\n",
    "    #print('Use targets', use_targets)\n",
    "    metric = validate(y_test[target_col], preds)\n",
    "    print(target_col, 'RMSE:', metric)\n",
    "    print('')\n",
    "    return preds"
   ]
  },
  {
   "cell_type": "code",
   "execution_count": 26,
   "metadata": {},
   "outputs": [],
   "source": [
    "lag_matrix = np.zeros([len(train.columns), 24])"
   ]
  },
  {
   "cell_type": "code",
   "execution_count": 27,
   "metadata": {},
   "outputs": [],
   "source": [
    "max_lag = 500\n",
    "\n",
    "def detect_sensor_lags(train, targets, target_col):\n",
    "    cols = []\n",
    "    lag_matrix = np.zeros([len(train.columns), max_lag//23])\n",
    "    print(lag_matrix.shape)\n",
    "    for i, col in enumerate(train.columns):\n",
    "        for j, lag in enumerate(range(0, max_lag, 24)):\n",
    "            lag_matrix[i, j] = train[col].shift(lag).corr(targets[target_col])\n",
    "        cols.append(col)\n",
    "    #lag_matrix.index = cols\n",
    "    return lag_matrix, cols"
   ]
  },
  {
   "cell_type": "code",
   "execution_count": 40,
   "metadata": {},
   "outputs": [],
   "source": [
    "from math import sqrt\n",
    "from sklearn.metrics import mean_squared_error"
   ]
  },
  {
   "cell_type": "code",
   "execution_count": 28,
   "metadata": {},
   "outputs": [],
   "source": [
    "from sklearn.preprocessing import MinMaxScaler"
   ]
  },
  {
   "cell_type": "code",
   "execution_count": 29,
   "metadata": {},
   "outputs": [],
   "source": [
    "def plot_lag_corellation(train, targets, col):\n",
    "    lag_matrix = detect_sensor_lags(merge_with_targets(train, targets, col), targets, col)\n",
    "\n",
    "    ax = plt.figure(figsize=(10, 15))\n",
    "    ax = plt.matshow(pd.DataFrame(MinMaxScaler().fit_transform(pd.DataFrame(lag_matrix).abs().T)).T, fignum=1);"
   ]
  },
  {
   "cell_type": "code",
   "execution_count": 42,
   "metadata": {},
   "outputs": [],
   "source": [
    "test_col = 'y1'"
   ]
  },
  {
   "cell_type": "code",
   "execution_count": 43,
   "metadata": {},
   "outputs": [
    {
     "name": "stdout",
     "output_type": "stream",
     "text": [
      "(48, 21)\n"
     ]
    }
   ],
   "source": [
    "lags, cols = detect_sensor_lags(train, targets, test_col)"
   ]
  },
  {
   "cell_type": "code",
   "execution_count": 44,
   "metadata": {},
   "outputs": [],
   "source": [
    "lags = pd.DataFrame(lags).T"
   ]
  },
  {
   "cell_type": "code",
   "execution_count": 45,
   "metadata": {},
   "outputs": [],
   "source": [
    "lags.columns = cols"
   ]
  },
  {
   "cell_type": "code",
   "execution_count": 46,
   "metadata": {},
   "outputs": [],
   "source": [
    "lags.index = [x for x in range(0, max_lag, 24)]"
   ]
  },
  {
   "cell_type": "code",
   "execution_count": 87,
   "metadata": {},
   "outputs": [],
   "source": [
    "df = pd.DataFrame()\n",
    "for col in lags.columns:\n",
    "    shifts = lags[col].abs().sort_values(ascending=False).index\n",
    "    for shift in shifts:\n",
    "        df[col + '_shift_' + str(shift)] = sensors[col].shift(shift)"
   ]
  },
  {
   "cell_type": "code",
   "execution_count": 88,
   "metadata": {},
   "outputs": [
    {
     "name": "stdout",
     "output_type": "stream",
     "text": [
      "y1 RMSE: 0.21458762536282477\n",
      "\n"
     ]
    }
   ],
   "source": [
    "df['timestamp'] = sensors['timestamp']\n",
    "preds =run_lgbm(df.iloc[800:, :], targets.iloc[800:, :], test_col, use_targets=False)"
   ]
  },
  {
   "cell_type": "markdown",
   "metadata": {},
   "source": [
    "### Feature Selection"
   ]
  },
  {
   "cell_type": "code",
   "execution_count": 89,
   "metadata": {},
   "outputs": [],
   "source": [
    "from sklearn.feature_selection import SelectFromModel"
   ]
  },
  {
   "cell_type": "code",
   "execution_count": 127,
   "metadata": {},
   "outputs": [],
   "source": [
    "from sklearn.ensemble import RandomForestRegressor\n",
    "from sklearn.svm import SVR"
   ]
  },
  {
   "cell_type": "code",
   "execution_count": 136,
   "metadata": {},
   "outputs": [],
   "source": [
    "rf = RandomForestRegressor()\n",
    "#rf = SVR(C=0.01)"
   ]
  },
  {
   "cell_type": "code",
   "execution_count": 137,
   "metadata": {},
   "outputs": [
    {
     "name": "stderr",
     "output_type": "stream",
     "text": [
      "/home/ds/env/lib/python3.7/site-packages/sklearn/ensemble/forest.py:248: FutureWarning: The default value of n_estimators will change from 10 in version 0.20 to 100 in 0.22.\n",
      "  \"10 in version 0.20 to 100 in 0.22.\", FutureWarning)\n"
     ]
    },
    {
     "data": {
      "text/plain": [
       "RandomForestRegressor(bootstrap=True, criterion='mse', max_depth=None,\n",
       "           max_features='auto', max_leaf_nodes=None,\n",
       "           min_impurity_decrease=0.0, min_impurity_split=None,\n",
       "           min_samples_leaf=1, min_samples_split=2,\n",
       "           min_weight_fraction_leaf=0.0, n_estimators=10, n_jobs=None,\n",
       "           oob_score=False, random_state=None, verbose=0, warm_start=False)"
      ]
     },
     "execution_count": 137,
     "metadata": {},
     "output_type": "execute_result"
    }
   ],
   "source": [
    "rf.fit(df.iloc[9000:10400, :].drop('timestamp', axis=1).fillna(-1), targets.y1.tail(1400))"
   ]
  },
  {
   "cell_type": "code",
   "execution_count": 138,
   "metadata": {},
   "outputs": [],
   "source": [
    "m = SelectFromModel(rf, prefit=True)"
   ]
  },
  {
   "cell_type": "code",
   "execution_count": 139,
   "metadata": {},
   "outputs": [],
   "source": [
    "X_selected = pd.DataFrame(m.transform(df.drop('timestamp', axis=1).fillna(-1)))"
   ]
  },
  {
   "cell_type": "code",
   "execution_count": 187,
   "metadata": {},
   "outputs": [],
   "source": [
    "reg = LGBMRegressor(max_depth=-1, n_estimators=90)"
   ]
  },
  {
   "cell_type": "code",
   "execution_count": 193,
   "metadata": {},
   "outputs": [
    {
     "name": "stdout",
     "output_type": "stream",
     "text": [
      "y1 RMSE: 0.21562900614719419\n",
      "\n"
     ]
    }
   ],
   "source": [
    "X_selected['timestamp'] = sensors['timestamp']\n",
    "preds =run_lgbm(X_selected.iloc[800:, :], targets.iloc[800:, :], test_col, use_targets=False, reg=reg)"
   ]
  },
  {
   "cell_type": "code",
   "execution_count": 73,
   "metadata": {},
   "outputs": [
    {
     "name": "stdout",
     "output_type": "stream",
     "text": [
      "y1 RMSE: 0.22999691539713055\n",
      "\n"
     ]
    }
   ],
   "source": [
    "preds = run_lgbm(sensors.iloc[800:, :], targets.shift(-290).iloc[800:-290, :], test_col, use_targets=True)"
   ]
  },
  {
   "cell_type": "code",
   "execution_count": 1467,
   "metadata": {},
   "outputs": [
    {
     "data": {
      "text/plain": [
       "Int64Index([0, 360, 288, 336, 384], dtype='int64')"
      ]
     },
     "execution_count": 1467,
     "metadata": {},
     "output_type": "execute_result"
    }
   ],
   "source": [
    "lags['f_0'].abs().sort_values(ascending=False).index[:5]"
   ]
  },
  {
   "cell_type": "code",
   "execution_count": 751,
   "metadata": {},
   "outputs": [
    {
     "data": {
      "text/plain": [
       "98.83039651054476"
      ]
     },
     "execution_count": 751,
     "metadata": {},
     "output_type": "execute_result"
    }
   ],
   "source": [
    "train.fillna(method='ffill').iloc[[324, 325, 326], [0]].mean().values[0]"
   ]
  },
  {
   "cell_type": "code",
   "execution_count": 3,
   "metadata": {},
   "outputs": [],
   "source": [
    "from scipy.stats import norm"
   ]
  },
  {
   "cell_type": "code",
   "execution_count": 843,
   "metadata": {},
   "outputs": [
    {
     "name": "stdout",
     "output_type": "stream",
     "text": [
      "gamma (46715.475675408365, -6.374281491210314, 0.00013752346262066662)\n",
      "beta (4.722389652623067, 5.377126308683695, -0.043057720526629026, 0.19933148007161394)\n",
      "rayleigh (-0.016237657198935534, 0.05146087262850453)\n",
      "norm (0.050192603532644445, 0.029723618460595843)\n",
      "pareto (4.298865081839758, -0.2680608518517317, 0.25482428111543975)\n"
     ]
    }
   ],
   "source": [
    "import matplotlib.pyplot as plt\n",
    "import scipy\n",
    "import scipy.stats\n",
    "\n",
    "dist_names = ['gamma', 'beta', 'rayleigh', 'norm', 'pareto']\n",
    "\n",
    "for dist_name in dist_names:\n",
    "    dist = getattr(scipy.stats, dist_name)\n",
    "    param = dist.fit(lags.T[0])\n",
    "    print(dist_name, param)\n",
    "    # here's the parameters of your distribution, scale, location"
   ]
  },
  {
   "cell_type": "code",
   "execution_count": 807,
   "metadata": {},
   "outputs": [
    {
     "data": {
      "text/plain": [
       "<matplotlib.axes._subplots.AxesSubplot at 0x7fc9859db550>"
      ]
     },
     "execution_count": 807,
     "metadata": {},
     "output_type": "execute_result"
    },
    {
     "data": {
      "image/png": "[encoded data removed]",
      "text/plain": [
       "<Figure size 1440x360 with 1 Axes>"
      ]
     },
     "metadata": {},
     "output_type": "display_data"
    }
   ],
   "source": [
    "pd.Series(col_corr).plot(kind='bar')"
   ]
  },
  {
   "cell_type": "code",
   "execution_count": 668,
   "metadata": {},
   "outputs": [
    {
     "data": {
      "text/plain": [
       "<matplotlib.axes._subplots.AxesSubplot at 0x7fc98581c6d8>"
      ]
     },
     "execution_count": 668,
     "metadata": {},
     "output_type": "execute_result"
    },
    {
     "data": {
      "image/png": "[encoded data removed]",
      "text/plain": [
       "<Figure size 1440x360 with 1 Axes>"
      ]
     },
     "metadata": {},
     "output_type": "display_data"
    }
   ],
   "source": [
    "targets.reset_index().y1.plot()"
   ]
  },
  {
   "cell_type": "code",
   "execution_count": 660,
   "metadata": {},
   "outputs": [
    {
     "data": {
      "image/png": "[encoded data removed]",
      "text/plain": [
       "<Figure size 720x1080 with 1 Axes>"
      ]
     },
     "metadata": {},
     "output_type": "display_data"
    }
   ],
   "source": [
    "plot_lag_corellation(train, targets, 'y1')"
   ]
  },
  {
   "cell_type": "code",
   "execution_count": 663,
   "metadata": {},
   "outputs": [
    {
     "data": {
      "image/png": "[encoded data removed]",
      "text/plain": [
       "<Figure size 720x1080 with 1 Axes>"
      ]
     },
     "metadata": {},
     "output_type": "display_data"
    }
   ],
   "source": [
    "plot_lag_corellation(train, targets, 'y2')"
   ]
  },
  {
   "cell_type": "code",
   "execution_count": 664,
   "metadata": {},
   "outputs": [
    {
     "data": {
      "image/png": "[encoded data removed]",
      "text/plain": [
       "<Figure size 720x1080 with 1 Axes>"
      ]
     },
     "metadata": {},
     "output_type": "display_data"
    }
   ],
   "source": [
    "plot_lag_corellation(train, targets, 'y3')"
   ]
  },
  {
   "cell_type": "code",
   "execution_count": 665,
   "metadata": {},
   "outputs": [
    {
     "data": {
      "image/png": "[encoded data removed]",
      "text/plain": [
       "<Figure size 720x1080 with 1 Axes>"
      ]
     },
     "metadata": {},
     "output_type": "display_data"
    }
   ],
   "source": [
    "plot_lag_corellation(train, targets, 'y4')"
   ]
  },
  {
   "cell_type": "code",
   "execution_count": 666,
   "metadata": {},
   "outputs": [
    {
     "data": {
      "image/png": "[encoded data removed]",
      "text/plain": [
       "<Figure size 720x1080 with 1 Axes>"
      ]
     },
     "metadata": {},
     "output_type": "display_data"
    }
   ],
   "source": [
    "plot_lag_corellation(train, targets, 'y5')"
   ]
  },
  {
   "cell_type": "code",
   "execution_count": 1489,
   "metadata": {},
   "outputs": [
    {
     "name": "stdout",
     "output_type": "stream",
     "text": [
      "y2 RMSE: 3.10429364573134\n",
      "\n"
     ]
    }
   ],
   "source": [
    "run_lgbm(sensors.iloc[800: ,:], targets.iloc[800:, :], 'y2', use_targets=False)"
   ]
  },
  {
   "cell_type": "code",
   "execution_count": 1325,
   "metadata": {},
   "outputs": [
    {
     "name": "stdout",
     "output_type": "stream",
     "text": [
      "y1 RMSE: 0.20620020118097102\n",
      "\n",
      "y2 RMSE: 3.1295743163139083\n",
      "\n",
      "y3 RMSE: 2.304381202505279\n",
      "\n",
      "y4 RMSE: 1.7108415558073948\n",
      "\n",
      "y5 RMSE: 0.49490509082826806\n",
      "\n"
     ]
    }
   ],
   "source": [
    "for col in ['y1', 'y2', 'y3', 'y4', 'y5']:\n",
    "    for b in [False]:\n",
    "        run_lgbm(sensors.fillna(method='pad'), targets.shift(-350).fillna(method='ffill'), col, use_targets=b)"
   ]
  },
  {
   "cell_type": "code",
   "execution_count": 433,
   "metadata": {},
   "outputs": [
    {
     "name": "stdout",
     "output_type": "stream",
     "text": [
      "y1 RMSE: 0.29722670214500657\n",
      "\n",
      "y2 RMSE: 3.3934978663218223\n",
      "\n",
      "y3 RMSE: 3.0808294529264613\n",
      "\n",
      "y4 RMSE: 1.6325512824755217\n",
      "\n",
      "y5 RMSE: 0.5884578084847693\n",
      "\n"
     ]
    }
   ],
   "source": [
    "for col in ['y1', 'y2', 'y3', 'y4', 'y5']:\n",
    "    for b in [False]:\n",
    "        run_lgbm(sensors.fillna(method='pad'), targets, col, use_targets=b)"
   ]
  },
  {
   "cell_type": "markdown",
   "metadata": {},
   "source": [
    "## Corellations"
   ]
  },
  {
   "cell_type": "code",
   "execution_count": 336,
   "metadata": {},
   "outputs": [
    {
     "data": {
      "image/png": "[encoded data removed]",
      "text/plain": [
       "<Figure size 504x504 with 1 Axes>"
      ]
     },
     "metadata": {},
     "output_type": "display_data"
    }
   ],
   "source": [
    "plt.matshow(train.corr());"
   ]
  },
  {
   "cell_type": "code",
   "execution_count": 326,
   "metadata": {},
   "outputs": [],
   "source": [
    "def plot_corr_with_target(train, targets, target_col):\n",
    "    train_w_targets = merge_with_targets(train, targets, target_col)\n",
    "    corellations = train_w_targets.corrwith(targets[target_col])\n",
    "    corellations.plot(kind='bar');"
   ]
  },
  {
   "cell_type": "markdown",
   "metadata": {},
   "source": [
    "        add error to USED TARGETS"
   ]
  },
  {
   "cell_type": "code",
   "execution_count": null,
   "metadata": {},
   "outputs": [],
   "source": [
    "for shift in [0, 800, 25]"
   ]
  },
  {
   "cell_type": "code",
   "execution_count": 954,
   "metadata": {},
   "outputs": [
    {
     "data": {
      "image/png": "[encoded data removed]",
      "text/plain": [
       "<Figure size 1440x360 with 1 Axes>"
      ]
     },
     "metadata": {},
     "output_type": "display_data"
    }
   ],
   "source": [
    "plot_corr_with_target(train.shift(100), targets, 'y1')"
   ]
  },
  {
   "cell_type": "code",
   "execution_count": 372,
   "metadata": {},
   "outputs": [
    {
     "data": {
      "image/png": "[encoded data removed]",
      "text/plain": [
       "<Figure size 1440x360 with 1 Axes>"
      ]
     },
     "metadata": {},
     "output_type": "display_data"
    }
   ],
   "source": [
    "plot_corr_with_target(train, targets, 'y1')"
   ]
  },
  {
   "cell_type": "code",
   "execution_count": 331,
   "metadata": {},
   "outputs": [
    {
     "data": {
      "image/png": "[encoded data removed]",
      "text/plain": [
       "<Figure size 1440x504 with 1 Axes>"
      ]
     },
     "metadata": {},
     "output_type": "display_data"
    }
   ],
   "source": [
    "plot_corr_with_target(train, targets, 'y2')"
   ]
  },
  {
   "cell_type": "code",
   "execution_count": 332,
   "metadata": {},
   "outputs": [
    {
     "data": {
      "image/png": "[encoded data removed]",
      "text/plain": [
       "<Figure size 1440x504 with 1 Axes>"
      ]
     },
     "metadata": {},
     "output_type": "display_data"
    }
   ],
   "source": [
    "plot_corr_with_target(train, targets, 'y3')"
   ]
  },
  {
   "cell_type": "code",
   "execution_count": 333,
   "metadata": {},
   "outputs": [
    {
     "data": {
      "image/png": "[encoded data removed]",
      "text/plain": [
       "<Figure size 1440x504 with 1 Axes>"
      ]
     },
     "metadata": {},
     "output_type": "display_data"
    }
   ],
   "source": [
    "plot_corr_with_target(train, targets, 'y4')"
   ]
  },
  {
   "cell_type": "code",
   "execution_count": 334,
   "metadata": {},
   "outputs": [
    {
     "data": {
      "image/png": "[encoded data removed]",
      "text/plain": [
       "<Figure size 1440x504 with 1 Axes>"
      ]
     },
     "metadata": {},
     "output_type": "display_data"
    }
   ],
   "source": [
    "plot_corr_with_target(train, targets, 'y5')"
   ]
  },
  {
   "cell_type": "markdown",
   "metadata": {},
   "source": [
    "## Train Test Corr"
   ]
  },
  {
   "cell_type": "code",
   "execution_count": 217,
   "metadata": {},
   "outputs": [],
   "source": [
    "a = np.array([1, 2, 3])\n",
    "b = np.array([5, 6])\n",
    "c = np.array([3, 2])"
   ]
  },
  {
   "cell_type": "code",
   "execution_count": 203,
   "metadata": {},
   "outputs": [],
   "source": [
    "from scipy.stats import ttest_ind"
   ]
  },
  {
   "cell_type": "code",
   "execution_count": 228,
   "metadata": {},
   "outputs": [
    {
     "data": {
      "text/plain": [
       "Ttest_indResult(statistic=-0.6, pvalue=0.590801208053989)"
      ]
     },
     "execution_count": 228,
     "metadata": {},
     "output_type": "execute_result"
    }
   ],
   "source": [
    "ttest_ind(a, c)"
   ]
  },
  {
   "cell_type": "code",
   "execution_count": 199,
   "metadata": {},
   "outputs": [],
   "source": [
    "test = sensors.loc[10400:, :]"
   ]
  },
  {
   "cell_type": "code",
   "execution_count": 227,
   "metadata": {},
   "outputs": [
    {
     "name": "stdout",
     "output_type": "stream",
     "text": [
      "f_0 0.1428\n",
      "f_1 0.1016\n",
      "f_2 0.0544\n",
      "f_3 0.0015\n",
      "f_4 0.0\n",
      "f_5 0.0\n",
      "f_6 0.0\n",
      "f_7 0.0\n",
      "f_8 0.9448\n",
      "f_9 0.941\n",
      "f_10 0.9782\n",
      "f_11 0.0\n",
      "f_12 0.0\n",
      "f_13 0.0\n",
      "f_14 0.0\n",
      "f_15 0.0036\n",
      "f_16 0.0\n",
      "f_17 0.0\n",
      "f_18 0.0\n",
      "f_19 0.0\n",
      "f_20 0.0\n",
      "f_21 0.0\n",
      "f_22 0.0\n",
      "f_23 0.0001\n",
      "f_24 0.0\n",
      "f_25 0.0\n",
      "f_26 0.0\n",
      "f_27 0.0\n",
      "f_28 0.0\n",
      "f_29 0.0\n",
      "f_30 0.0\n",
      "f_31 0.0\n",
      "f_32 0.0\n",
      "f_33 0.0138\n",
      "f_34 0.0\n",
      "f_35 0.0\n",
      "f_36 0.0\n",
      "f_37 0.0\n",
      "f_38 0.0\n",
      "f_39 0.0\n",
      "f_40 0.0\n",
      "f_41 0.5814\n",
      "f_42 0.5724\n",
      "f_43 0.0\n",
      "f_44 0.0095\n",
      "f_45 0.0\n",
      "f_46 0.0942\n",
      "f_47 0.0\n"
     ]
    }
   ],
   "source": [
    "for col in train.columns:\n",
    "    print(col, round(ttest_ind(np.array(train[col].fillna(-1)), np.array(test[col].fillna(-1))).pvalue, 4))"
   ]
  },
  {
   "cell_type": "markdown",
   "metadata": {},
   "source": [
    "## Missing Values"
   ]
  },
  {
   "cell_type": "code",
   "execution_count": 349,
   "metadata": {},
   "outputs": [],
   "source": [
    "from quilt.data.ResidentMario import missingno_data"
   ]
  },
  {
   "cell_type": "code",
   "execution_count": 359,
   "metadata": {},
   "outputs": [],
   "source": [
    "collisions = missingno_data.nyc_collision_factors()"
   ]
  },
  {
   "cell_type": "code",
   "execution_count": 360,
   "metadata": {},
   "outputs": [],
   "source": [
    "collisions = collisions.replace(\"nan\", np.nan)\n"
   ]
  },
  {
   "cell_type": "code",
   "execution_count": 362,
   "metadata": {},
   "outputs": [],
   "source": [
    "import missingno as msno"
   ]
  },
  {
   "cell_type": "code",
   "execution_count": 363,
   "metadata": {},
   "outputs": [
    {
     "data": {
      "text/plain": [
       "<matplotlib.axes._subplots.AxesSubplot at 0x7fc9940c2710>"
      ]
     },
     "execution_count": 363,
     "metadata": {},
     "output_type": "execute_result"
    },
    {
     "data": {
      "image/png": "[encoded data removed]",
      "text/plain": [
       "<Figure size 1800x720 with 2 Axes>"
      ]
     },
     "metadata": {},
     "output_type": "display_data"
    }
   ],
   "source": [
    "msno.matrix(train)"
   ]
  },
  {
   "cell_type": "markdown",
   "metadata": {},
   "source": [
    "## Schedule NA Fill"
   ]
  },
  {
   "cell_type": "code",
   "execution_count": null,
   "metadata": {},
   "outputs": [],
   "source": []
  },
  {
   "cell_type": "code",
   "execution_count": null,
   "metadata": {},
   "outputs": [],
   "source": []
  },
  {
   "cell_type": "code",
   "execution_count": null,
   "metadata": {},
   "outputs": [],
   "source": []
  },
  {
   "cell_type": "code",
   "execution_count": null,
   "metadata": {},
   "outputs": [],
   "source": []
  },
  {
   "cell_type": "code",
   "execution_count": null,
   "metadata": {},
   "outputs": [],
   "source": []
  },
  {
   "cell_type": "code",
   "execution_count": null,
   "metadata": {},
   "outputs": [],
   "source": []
  }
 ],
 "metadata": {
  "kernelspec": {
   "display_name": "Python 3",
   "language": "python",
   "name": "python3"
  },
  "language_info": {
   "codemirror_mode": {
    "name": "ipython",
    "version": 3
   },
   "file_extension": ".py",
   "mimetype": "text/x-python",
   "name": "python",
   "nbconvert_exporter": "python",
   "pygments_lexer": "ipython3",
   "version": "3.7.1"
  }
 },
 "nbformat": 4,
 "nbformat_minor": 2
}
